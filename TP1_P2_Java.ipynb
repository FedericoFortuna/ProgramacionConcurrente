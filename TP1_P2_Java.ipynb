{
  "nbformat": 4,
  "nbformat_minor": 0,
  "metadata": {
    "colab": {
      "provenance": [],
      "authorship_tag": "ABX9TyNjqcdBLMLsRuIQZ8UVfpKB",
      "include_colab_link": true
    },
    "kernelspec": {
      "name": "python3",
      "display_name": "Python 3"
    },
    "language_info": {
      "name": "python"
    }
  },
  "cells": [
    {
      "cell_type": "markdown",
      "metadata": {
        "id": "view-in-github",
        "colab_type": "text"
      },
      "source": [
        "<a href=\"https://colab.research.google.com/github/FedericoFortuna/ProgramacionConcurrente/blob/main/TP1_P2_Java.ipynb\" target=\"_parent\"><img src=\"https://colab.research.google.com/assets/colab-badge.svg\" alt=\"Open In Colab\"/></a>"
      ]
    },
    {
      "cell_type": "markdown",
      "source": [
        "# **Multiplicación de matrices en Java**"
      ],
      "metadata": {
        "id": "nH1ea_fnitIb"
      }
    },
    {
      "cell_type": "code",
      "execution_count": 1,
      "metadata": {
        "colab": {
          "base_uri": "https://localhost:8080/"
        },
        "id": "epM4ysQhimR6",
        "outputId": "d6040c43-c625-4062-a80c-b89bede46db5"
      },
      "outputs": [
        {
          "output_type": "stream",
          "name": "stdout",
          "text": [
            "Writing MultiplicacionMatrices.java\n"
          ]
        }
      ],
      "source": [
        "%%writefile MultiplicacionMatrices.java\n",
        "import java.util.Random;\n",
        "\n",
        "public class MultiplicacionMatrices \n",
        "{\n",
        "    \n",
        "    public static void main(String[] args) \n",
        "    {\n",
        "        // Obtener tamaño de las matrices cuadradas\n",
        "        int n = Integer.parseInt(args[0]);\n",
        "\n",
        "        if (n < 5 || n > 20)\n",
        "        {\n",
        "          System.out.println(\"El parametro debe estar entre 5 y 20\");\n",
        "          return;\n",
        "        }\n",
        "        \n",
        "        // Generar matrices aleatorias a y b\n",
        "        int[][] a = generarMatriz(n);\n",
        "        int[][] b = generarMatriz(n);\n",
        "        \n",
        "        // Realizar multiplicación secuencial de matrices y guardar en CS\n",
        "        int[][] cs = multiplicacionSecuencial(a, b);\n",
        "        \n",
        "        // Simular multiplicación concurrente de matrices y guardar en CH\n",
        "        int[][] ch = new int[n][n];\n",
        "        multiplicacionConcurrente(a, b, ch);\n",
        "        \n",
        "        // Comparar matrices resultado y mostrar mensaje\n",
        "      System.out.println(\"Matriz a:\\n\");\n",
        "      mostrarMatriz(a);\n",
        "      System.out.println(\"Matriz b:\\n\");\n",
        "      mostrarMatriz(b);\n",
        "      System.out.println(\"Matriz cs:\\n\");\n",
        "      mostrarMatriz(cs);\n",
        "       System.out.println(\"Matriz ch\\n\");\n",
        "      mostrarMatriz(ch);\n",
        "\n",
        "        if (sonIguales(cs, ch)) \n",
        "        {\n",
        "            System.out.println(\"Las matrices resultado son iguales.\");\n",
        "        } else \n",
        "        {\n",
        "            System.out.println(\"Las matrices resultado son diferentes.\");\n",
        "        }\n",
        "    }\n",
        "    \n",
        "    // Función que genera una matriz aleatoria de tamaño NxN\n",
        "    public static int[][] generarMatriz(int n) \n",
        "    {\n",
        "        Random random = new Random();\n",
        "        int[][] matriz = new int[n][n];\n",
        "        \n",
        "        for (int i = 0; i < n; i++) {\n",
        "            for (int j = 0; j < n; j++) \n",
        "            {\n",
        "                matriz[i][j] = random.nextInt(65) - 32;\n",
        "            }\n",
        "        }\n",
        "        \n",
        "        return matriz;\n",
        "    }\n",
        "    \n",
        "    // Función que realiza la multiplicación secuencial de matrices\n",
        "    public static int[][] multiplicacionSecuencial(int[][] a, int[][] b) \n",
        "    {\n",
        "        int n = a.length;\n",
        "        int[][] c = new int[n][n];\n",
        "        \n",
        "        for (int i = 0; i < n; i++) \n",
        "        {\n",
        "            for (int j = 0; j < n; j++) \n",
        "            {\n",
        "                int sum = 0;\n",
        "                for (int k = 0; k < n; k++) \n",
        "                {\n",
        "                    sum += a[i][k] * b[k][j];\n",
        "                }\n",
        "                c[i][j] = sum;\n",
        "            }\n",
        "        }\n",
        "        \n",
        "        return c;\n",
        "    }\n",
        "    \n",
        " // Función que simula la multiplicación concurrente de matrices\n",
        "    public static void multiplicacionConcurrente(int[][] a, int[][] b, int[][] c) \n",
        "    {\n",
        "        int n = a.length;\n",
        "        Thread[] threads = new Thread[n];\n",
        "        \n",
        "        for (int i = 0; i < n; i++) \n",
        "        {\n",
        "            int fila = i;\n",
        "            threads[i] = new Thread(() -> \n",
        "            {\n",
        "                for (int j = 0; j < n; j++) \n",
        "                {\n",
        "                    int sum = 0;\n",
        "                    for (int k = 0; k < n; k++) \n",
        "                    {\n",
        "                        sum += a[fila][k] * b[k][j];\n",
        "                    }\n",
        "                    c[fila][j] = sum;\n",
        "                }\n",
        "            });\n",
        "            threads[i].start();\n",
        "        }\n",
        "        \n",
        "        // Esperar a que todos los hilos terminen\n",
        "        for (Thread thread : threads) \n",
        "        {\n",
        "            try \n",
        "            {\n",
        "                thread.join();\n",
        "            } \n",
        "            catch (InterruptedException e) \n",
        "            {\n",
        "                e.printStackTrace();\n",
        "            }\n",
        "        }\n",
        "    }\n",
        "    \n",
        "    // Función que compara si dos matrices son iguales\n",
        "    public static boolean sonIguales(int[][] a, int[][] b) \n",
        "    {\n",
        "        int n = a.length;\n",
        "        for (int i = 0; i < n; i++) \n",
        "        {\n",
        "            for (int j = 0; j < n; j++) \n",
        "            {\n",
        "                if (a[i][j] != b[i][j]) \n",
        "                {\n",
        "                    return false;\n",
        "                }\n",
        "            }\n",
        "        }\n",
        "        return true;\n",
        "    }\n",
        "\n",
        "  public static void mostrarMatriz(int[][] matriz) \n",
        "  {\n",
        "    for (int i = 0; i < matriz.length; i++) \n",
        "    {\n",
        "        for (int j = 0; j < matriz[i].length; j++) \n",
        "        {\n",
        "            System.out.print(matriz[i][j] + \"\\t\");\n",
        "        }\n",
        "        System.out.println();\n",
        "    }\n",
        "}\n",
        "\n",
        "}"
      ]
    },
    {
      "cell_type": "code",
      "source": [
        "!javac MultiplicacionMatrices.java"
      ],
      "metadata": {
        "id": "lbKNKA5Ci1H0"
      },
      "execution_count": 2,
      "outputs": []
    },
    {
      "cell_type": "code",
      "source": [
        "!java MultiplicacionMatrices 5 1>salidaJava 2>/dev/null & "
      ],
      "metadata": {
        "id": "4mSm68Dai3aZ"
      },
      "execution_count": 3,
      "outputs": []
    },
    {
      "cell_type": "code",
      "source": [
        "!cat salidaJava"
      ],
      "metadata": {
        "colab": {
          "base_uri": "https://localhost:8080/"
        },
        "id": "gl9bObuQj03T",
        "outputId": "33f9cc06-dce4-4eb7-a33d-710ec8e14c77"
      },
      "execution_count": 4,
      "outputs": [
        {
          "output_type": "stream",
          "name": "stdout",
          "text": [
            "Matriz a:\n",
            "\n",
            "5\t-28\t4\t13\t-17\t\n",
            "-11\t2\t29\t3\t6\t\n",
            "-13\t-13\t-9\t6\t3\t\n",
            "-7\t-30\t13\t-1\t6\t\n",
            "-9\t12\t-15\t-7\t14\t\n",
            "Matriz b:\n",
            "\n",
            "15\t9\t-24\t-19\t-27\t\n",
            "1\t-8\t18\t24\t26\t\n",
            "-16\t32\t28\t-25\t14\t\n",
            "29\t-31\t-13\t23\t16\t\n",
            "4\t22\t-15\t32\t-29\t\n",
            "Matriz cs:\n",
            "\n",
            "292\t-380\t-426\t-1112\t-106\t\n",
            "-516\t852\t983\t-207\t629\t\n",
            "122\t-421\t-297\t394\t-104\t\n",
            "-348\t756\t-85\t-743\t-599\t\n",
            "-30\t-132\t-107\t1121\t-173\t\n",
            "Matriz ch\n",
            "\n",
            "292\t-380\t-426\t-1112\t-106\t\n",
            "-516\t852\t983\t-207\t629\t\n",
            "122\t-421\t-297\t394\t-104\t\n",
            "-348\t756\t-85\t-743\t-599\t\n",
            "-30\t-132\t-107\t1121\t-173\t\n",
            "Las matrices resultado son iguales.\n"
          ]
        }
      ]
    }
  ]
}