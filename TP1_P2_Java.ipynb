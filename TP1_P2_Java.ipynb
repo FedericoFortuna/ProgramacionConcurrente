{
  "nbformat": 4,
  "nbformat_minor": 0,
  "metadata": {
    "colab": {
      "provenance": [],
      "authorship_tag": "ABX9TyOF1gMRi0Z8Lxh+nu/HwcIm",
      "include_colab_link": true
    },
    "kernelspec": {
      "name": "python3",
      "display_name": "Python 3"
    },
    "language_info": {
      "name": "python"
    }
  },
  "cells": [
    {
      "cell_type": "markdown",
      "metadata": {
        "id": "view-in-github",
        "colab_type": "text"
      },
      "source": [
        "<a href=\"https://colab.research.google.com/github/FedericoFortuna/ProgramacionConcurrente/blob/main/TP1_P2_Java.ipynb\" target=\"_parent\"><img src=\"https://colab.research.google.com/assets/colab-badge.svg\" alt=\"Open In Colab\"/></a>"
      ]
    },
    {
      "cell_type": "markdown",
      "source": [
        "# **Multiplicación de matrices en Java**"
      ],
      "metadata": {
        "id": "nH1ea_fnitIb"
      }
    },
    {
      "cell_type": "code",
      "execution_count": 23,
      "metadata": {
        "colab": {
          "base_uri": "https://localhost:8080/"
        },
        "id": "epM4ysQhimR6",
        "outputId": "c6ca9010-5152-45c2-85ee-3da2cd2d572c"
      },
      "outputs": [
        {
          "output_type": "stream",
          "name": "stdout",
          "text": [
            "Overwriting MultiplicacionMatrices.java\n"
          ]
        }
      ],
      "source": [
        "%%writefile MultiplicacionMatrices.java\n",
        "import java.util.Random;\n",
        "\n",
        "public class MultiplicacionMatrices \n",
        "{\n",
        "    \n",
        "    public static void main(String[] args) \n",
        "    {\n",
        "        // Obtener tamaño de las matrices cuadradas\n",
        "        int n = Integer.parseInt(args[0]);\n",
        "\n",
        "        if (n < 5 || n > 20)\n",
        "        {\n",
        "          System.out.println(\"El parametro debe estar entre 5 y 20\");\n",
        "          return;\n",
        "        }\n",
        "        \n",
        "        // Generar matrices aleatorias A y B\n",
        "        int[][] A = generarMatriz(n);\n",
        "        int[][] B = generarMatriz(n);\n",
        "        \n",
        "        // Realizar multiplicación secuencial de matrices y guardar en CS\n",
        "        int[][] CS = multiplicacionSecuencial(A, B);\n",
        "        \n",
        "        // Simular multiplicación concurrente de matrices y guardar en CH\n",
        "        int[][] CH = new int[n][n];\n",
        "        multiplicacionConcurrente(A, B, CH);\n",
        "        \n",
        "        // Comparar matrices resultado y mostrar mensaje\n",
        "      System.out.println(\"Matriz A:\\n\");\n",
        "      mostrarMatriz(A);\n",
        "      System.out.println(\"Matriz B:\\n\");\n",
        "      mostrarMatriz(B);\n",
        "      System.out.println(\"Matriz CS:\\n\");\n",
        "      mostrarMatriz(CS);\n",
        "       System.out.println(\"Matriz CH\\n\");\n",
        "      mostrarMatriz(CH);\n",
        "\n",
        "        if (sonIguales(CS, CH)) \n",
        "        {\n",
        "            System.out.println(\"Las matrices resultado son iguales.\");\n",
        "        } else \n",
        "        {\n",
        "            System.out.println(\"Las matrices resultado son diferentes.\");\n",
        "        }\n",
        "    }\n",
        "    \n",
        "    // Función que genera una matriz aleatoria de tamaño NxN\n",
        "    public static int[][] generarMatriz(int n) \n",
        "    {\n",
        "        Random random = new Random();\n",
        "        int[][] matriz = new int[n][n];\n",
        "        \n",
        "        for (int i = 0; i < n; i++) {\n",
        "            for (int j = 0; j < n; j++) \n",
        "            {\n",
        "                matriz[i][j] = random.nextInt(65) - 32;\n",
        "            }\n",
        "        }\n",
        "        \n",
        "        return matriz;\n",
        "    }\n",
        "    \n",
        "    // Función que realiza la multiplicación secuencial de matrices\n",
        "    public static int[][] multiplicacionSecuencial(int[][] A, int[][] B) \n",
        "    {\n",
        "        int n = A.length;\n",
        "        int[][] C = new int[n][n];\n",
        "        \n",
        "        for (int i = 0; i < n; i++) \n",
        "        {\n",
        "            for (int j = 0; j < n; j++) \n",
        "            {\n",
        "                int sum = 0;\n",
        "                for (int k = 0; k < n; k++) \n",
        "                {\n",
        "                    sum += A[i][k] * B[k][j];\n",
        "                }\n",
        "                C[i][j] = sum;\n",
        "            }\n",
        "        }\n",
        "        \n",
        "        return C;\n",
        "    }\n",
        "    \n",
        " // Función que simula la multiplicación concurrente de matrices\n",
        "    public static void multiplicacionConcurrente(int[][] A, int[][] B, int[][] C) \n",
        "    {\n",
        "        int n = A.length;\n",
        "        Thread[] threads = new Thread[n];\n",
        "        \n",
        "        for (int i = 0; i < n; i++) \n",
        "        {\n",
        "            int fila = i;\n",
        "            threads[i] = new Thread(() -> \n",
        "            {\n",
        "                for (int j = 0; j < n; j++) \n",
        "                {\n",
        "                    int sum = 0;\n",
        "                    for (int k = 0; k < n; k++) \n",
        "                    {\n",
        "                        sum += A[fila][k] * B[k][j];\n",
        "                    }\n",
        "                    C[fila][j] = sum;\n",
        "                }\n",
        "            });\n",
        "            threads[i].start();\n",
        "        }\n",
        "        \n",
        "        // Esperar a que todos los hilos terminen\n",
        "        for (Thread thread : threads) \n",
        "        {\n",
        "            try \n",
        "            {\n",
        "                thread.join();\n",
        "            } catch (InterruptedException e) \n",
        "            {\n",
        "                e.printStackTrace();\n",
        "            }\n",
        "        }\n",
        "    }\n",
        "    \n",
        "    // Función que compara si dos matrices son iguales\n",
        "    public static boolean sonIguales(int[][] A, int[][] B) \n",
        "    {\n",
        "        int n = A.length;\n",
        "        for (int i = 0; i < n; i++) \n",
        "        {\n",
        "            for (int j = 0; j < n; j++) \n",
        "            {\n",
        "                if (A[i][j] != B[i][j]) \n",
        "                {\n",
        "                    return false;\n",
        "                }\n",
        "            }\n",
        "        }\n",
        "        return true;\n",
        "    }\n",
        "\n",
        "  public static void mostrarMatriz(int[][] matriz) \n",
        "  {\n",
        "    for (int i = 0; i < matriz.length; i++) \n",
        "    {\n",
        "        for (int j = 0; j < matriz[i].length; j++) \n",
        "        {\n",
        "            System.out.print(matriz[i][j] + \"\\t\");\n",
        "        }\n",
        "        System.out.println();\n",
        "    }\n",
        "}\n",
        "\n",
        "}"
      ]
    },
    {
      "cell_type": "code",
      "source": [
        "!javac MultiplicacionMatrices.java"
      ],
      "metadata": {
        "id": "lbKNKA5Ci1H0"
      },
      "execution_count": 24,
      "outputs": []
    },
    {
      "cell_type": "code",
      "source": [
        "!java MultiplicacionMatrices 5 1>salidaJava 2>/dev/null & "
      ],
      "metadata": {
        "id": "4mSm68Dai3aZ"
      },
      "execution_count": 27,
      "outputs": []
    },
    {
      "cell_type": "code",
      "source": [
        "!cat salidaJava"
      ],
      "metadata": {
        "colab": {
          "base_uri": "https://localhost:8080/"
        },
        "id": "gl9bObuQj03T",
        "outputId": "edb50f58-8e09-4f58-8775-3004f99c31cf"
      },
      "execution_count": 28,
      "outputs": [
        {
          "output_type": "stream",
          "name": "stdout",
          "text": [
            "Matriz A:\n",
            "\n",
            "8\t14\t-12\t22\t-32\t\n",
            "13\t-1\t-32\t-22\t-27\t\n",
            "18\t-28\t-15\t-2\t-21\t\n",
            "9\t11\t-23\t21\t30\t\n",
            "-7\t16\t-18\t26\t-9\t\n",
            "Matriz B:\n",
            "\n",
            "-12\t-10\t-1\t18\t-15\t\n",
            "-25\t-27\t20\t-12\t22\t\n",
            "-29\t22\t-30\t-14\t-23\t\n",
            "4\t9\t24\t-21\t1\t\n",
            "-24\t32\t4\t22\t-22\t\n",
            "Matriz CS:\n",
            "\n",
            "758\t-1548\t1032\t-1022\t1190\t\n",
            "1357\t-1869\t291\t562\t1091\t\n",
            "1415\t-444\t-260\t450\t-81\t\n",
            "-352\t256\t1525\t571\t-3\t\n",
            "526\t-812\t1455\t-810\t1095\t\n",
            "Matriz CH\n",
            "\n",
            "758\t-1548\t1032\t-1022\t1190\t\n",
            "1357\t-1869\t291\t562\t1091\t\n",
            "1415\t-444\t-260\t450\t-81\t\n",
            "-352\t256\t1525\t571\t-3\t\n",
            "526\t-812\t1455\t-810\t1095\t\n",
            "Las matrices resultado son iguales.\n"
          ]
        }
      ]
    }
  ]
}