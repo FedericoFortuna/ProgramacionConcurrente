{
  "nbformat": 4,
  "nbformat_minor": 0,
  "metadata": {
    "colab": {
      "provenance": [],
      "authorship_tag": "ABX9TyNWZe7a5za5G7QeJGUccB7+",
      "include_colab_link": true
    },
    "kernelspec": {
      "name": "python3",
      "display_name": "Python 3"
    },
    "language_info": {
      "name": "python"
    }
  },
  "cells": [
    {
      "cell_type": "markdown",
      "metadata": {
        "id": "view-in-github",
        "colab_type": "text"
      },
      "source": [
        "<a href=\"https://colab.research.google.com/github/FedericoFortuna/ProgramacionConcurrente/blob/main/TP1_P3_Python.ipynb\" target=\"_parent\"><img src=\"https://colab.research.google.com/assets/colab-badge.svg\" alt=\"Open In Colab\"/></a>"
      ]
    },
    {
      "cell_type": "markdown",
      "source": [
        "# **Comunicación de procesos en Python (Pipe)**"
      ],
      "metadata": {
        "id": "cybjjWUj1ufw"
      }
    },
    {
      "cell_type": "code",
      "execution_count": 84,
      "metadata": {
        "id": "aRMowPyI1h7i",
        "colab": {
          "base_uri": "https://localhost:8080/"
        },
        "outputId": "6a438463-a6b5-4fb5-ae89-561aef7591ff"
      },
      "outputs": [
        {
          "output_type": "stream",
          "name": "stdout",
          "text": [
            "Overwriting copiar_archivo.py\n"
          ]
        }
      ],
      "source": [
        "%%writefile copiar_archivo.py\n",
        "import os\n",
        "import sys\n",
        "from multiprocessing import Process, Pipe\n",
        "\n",
        "\n",
        "def copiar_chunk(pipe, chunk):\n",
        "    # Enviar el chunk a través de la tubería\n",
        "    pipe.send_bytes(chunk)\n",
        "\n",
        "\n",
        "def copiar_archivo(pipe, archivo_a_copiar, chunk_size):\n",
        "    # Leer el archivo de origen y enviar los chunks a través de la tubería\n",
        "    with open(archivo_a_copiar, 'rb') as archivo:\n",
        "        while True:\n",
        "            chunk = archivo.read(chunk_size)\n",
        "            if not chunk:\n",
        "                break\n",
        "            copiar_chunk(pipe, chunk)\n",
        "\n",
        "    # Enviar un mensaje de finalización a través de la tubería\n",
        "    pipe.send_bytes(b'FINALIZADO')\n",
        "\n",
        "    # Cerrar la tubería\n",
        "    pipe.close()\n",
        "\n",
        "\n",
        "# Obtener el path del archivo a copiar del primer parámetro\n",
        "archivo_a_copiar = sys.argv[1]\n",
        "\n",
        "# Obtener el tamaño del chunk del segundo parámetro, o usar el valor predeterminado de 512 si no se proporciona\n",
        "if len(sys.argv) > 2:\n",
        "    chunk_size = int(sys.argv[2])\n",
        "else:\n",
        "    chunk_size = 512\n",
        "\n",
        "# Crear la tubería\n",
        "padre_pipe, hijo_pipe = Pipe()\n",
        "\n",
        "# Crear el proceso hijo\n",
        "hijo = Process(target=copiar_archivo, args=(hijo_pipe, archivo_a_copiar, chunk_size))\n",
        "hijo.start()\n",
        "\n",
        "# Crear el archivo de destino con _copia al final del nombre\n",
        "nombre_archivo, extension = os.path.splitext(archivo_a_copiar)\n",
        "archivo_destino = f\"{nombre_archivo}_copia{extension}\"\n",
        "\n",
        "# Leer los chunks de la tubería y escribirlos en el archivo de destino\n",
        "with open(archivo_destino, 'wb') as archivo:\n",
        "    while True:\n",
        "        chunk = padre_pipe.recv_bytes(chunk_size)\n",
        "        if chunk == b'FINALIZADO':\n",
        "            break\n",
        "        archivo.write(chunk)\n",
        "\n",
        "# Esperar a que el proceso hijo termine\n",
        "hijo.join()\n",
        "\n",
        "# Imprimir un mensaje de confirmación\n",
        "print(f\"Se ha creado una copia de {archivo_a_copiar} en {archivo_destino}.\")\n"
      ]
    },
    {
      "cell_type": "markdown",
      "source": [
        "**Creo el archivo a copiar**"
      ],
      "metadata": {
        "id": "c2eTV4LRbzsF"
      }
    },
    {
      "cell_type": "code",
      "source": [
        "!echo 'texto de prueba' > prueba.txt"
      ],
      "metadata": {
        "id": "JHLZZxAHaLCl"
      },
      "execution_count": 85,
      "outputs": []
    },
    {
      "cell_type": "code",
      "source": [
        "!cat prueba.txt"
      ],
      "metadata": {
        "colab": {
          "base_uri": "https://localhost:8080/"
        },
        "id": "oHejWzjvZXZq",
        "outputId": "710cb306-2af5-4c72-9a7b-ba2dc820c32f"
      },
      "execution_count": 86,
      "outputs": [
        {
          "output_type": "stream",
          "name": "stdout",
          "text": [
            "texto de prueba\n"
          ]
        }
      ]
    },
    {
      "cell_type": "markdown",
      "source": [
        "**Ejecuto el programa para hacer la copia**"
      ],
      "metadata": {
        "id": "mrNVKJd6cK4W"
      }
    },
    {
      "cell_type": "code",
      "source": [
        "!python copiar_archivo.py prueba.txt 1>salidaPython 2>/dev/null"
      ],
      "metadata": {
        "id": "1OMW6ZOvZSf0"
      },
      "execution_count": 87,
      "outputs": []
    },
    {
      "cell_type": "markdown",
      "source": [
        "**Muestro el archivo copiado**"
      ],
      "metadata": {
        "id": "O28YX1UicPTM"
      }
    },
    {
      "cell_type": "code",
      "source": [
        "!cat prueba_copia.txt"
      ],
      "metadata": {
        "colab": {
          "base_uri": "https://localhost:8080/"
        },
        "id": "jnnNQLqscC-D",
        "outputId": "70848210-5d72-4ab9-bd5b-840a6a203a2b"
      },
      "execution_count": 88,
      "outputs": [
        {
          "output_type": "stream",
          "name": "stdout",
          "text": [
            "texto de prueba\n"
          ]
        }
      ]
    },
    {
      "cell_type": "code",
      "source": [
        "!cat salidaPython"
      ],
      "metadata": {
        "colab": {
          "base_uri": "https://localhost:8080/"
        },
        "id": "hjipOxmffGqm",
        "outputId": "16f0e6ab-7d14-4869-e611-6861f583109f"
      },
      "execution_count": 89,
      "outputs": [
        {
          "output_type": "stream",
          "name": "stdout",
          "text": [
            "Se ha creado una copia de prueba.txt en prueba_copia.txt.\n"
          ]
        }
      ]
    },
    {
      "cell_type": "code",
      "source": [
        "!ls\n"
      ],
      "metadata": {
        "colab": {
          "base_uri": "https://localhost:8080/"
        },
        "id": "t-5O7CpSahg7",
        "outputId": "d98620ab-11fe-439f-96bd-d549eaa82b3b"
      },
      "execution_count": 90,
      "outputs": [
        {
          "output_type": "stream",
          "name": "stdout",
          "text": [
            "copiar_archivo.py  prueba_copia.txt  prueba.txt  salidaPython  sample_data\n"
          ]
        }
      ]
    }
  ]
}