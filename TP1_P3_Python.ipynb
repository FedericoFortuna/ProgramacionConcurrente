{
  "nbformat": 4,
  "nbformat_minor": 0,
  "metadata": {
    "colab": {
      "provenance": [],
      "authorship_tag": "ABX9TyMZ2myMmehwyec+WXECvRaE",
      "include_colab_link": true
    },
    "kernelspec": {
      "name": "python3",
      "display_name": "Python 3"
    },
    "language_info": {
      "name": "python"
    }
  },
  "cells": [
    {
      "cell_type": "markdown",
      "metadata": {
        "id": "view-in-github",
        "colab_type": "text"
      },
      "source": [
        "<a href=\"https://colab.research.google.com/github/FedericoFortuna/ProgramacionConcurrente/blob/main/TP1_P3_Python.ipynb\" target=\"_parent\"><img src=\"https://colab.research.google.com/assets/colab-badge.svg\" alt=\"Open In Colab\"/></a>"
      ]
    },
    {
      "cell_type": "markdown",
      "source": [
        "# **Comunicación de procesos en Python (Pipe)**"
      ],
      "metadata": {
        "id": "cybjjWUj1ufw"
      }
    },
    {
      "cell_type": "code",
      "execution_count": 91,
      "metadata": {
        "id": "aRMowPyI1h7i",
        "colab": {
          "base_uri": "https://localhost:8080/"
        },
        "outputId": "202268a5-f4c8-4ded-9317-43920eac3f71"
      },
      "outputs": [
        {
          "output_type": "stream",
          "name": "stdout",
          "text": [
            "Overwriting copiar_archivo.py\n"
          ]
        }
      ],
      "source": [
        "%%writefile copiar_archivo.py\n",
        "import os\n",
        "import sys\n",
        "from multiprocessing import Process, Pipe\n",
        "\n",
        "CHUNK_DEFAULT = 512\n",
        "\n",
        "def copiar_chunk(pipe, chunk):\n",
        "    # Enviar el chunk a través de la tubería\n",
        "    pipe.send_bytes(chunk)\n",
        "\n",
        "\n",
        "def copiar_archivo(pipe, archivo_a_copiar, chunk_size):\n",
        "    # Leer el archivo de origen y enviar los chunks a través de la tubería\n",
        "    with open(archivo_a_copiar, 'rb') as archivo:\n",
        "        while True:\n",
        "            chunk = archivo.read(chunk_size)\n",
        "            if not chunk:\n",
        "                break\n",
        "            copiar_chunk(pipe, chunk)\n",
        "\n",
        "    # Enviar un mensaje de finalización a través de la tubería\n",
        "    pipe.send_bytes(b'FINALIZADO')\n",
        "\n",
        "    # Cerrar la tubería\n",
        "    pipe.close()\n",
        "\n",
        "\n",
        "# Obtener el path del archivo a copiar del primer parámetro\n",
        "archivo_a_copiar = sys.argv[1]\n",
        "\n",
        "# Obtener el tamaño del chunk del segundo parámetro, o usar el valor predeterminado de 512 si no se proporciona\n",
        "if len(sys.argv) > 2:\n",
        "    chunk_size = int(sys.argv[2])\n",
        "else:\n",
        "    chunk_size = CHUNK_DEFAULT\n",
        "\n",
        "# Crear la tubería\n",
        "padre_pipe, hijo_pipe = Pipe()\n",
        "\n",
        "# Crear el proceso hijo\n",
        "hijo = Process(target=copiar_archivo, args=(hijo_pipe, archivo_a_copiar, chunk_size))\n",
        "hijo.start()\n",
        "\n",
        "# Crear el archivo de destino con _copia al final del nombre\n",
        "nombre_archivo, extension = os.path.splitext(archivo_a_copiar)\n",
        "archivo_destino = f\"{nombre_archivo}_copia{extension}\"\n",
        "\n",
        "# Leer los chunks de la tubería y escribirlos en el archivo de destino\n",
        "with open(archivo_destino, 'wb') as archivo:\n",
        "    while True:\n",
        "        chunk = padre_pipe.recv_bytes(chunk_size)\n",
        "        if chunk == b'FINALIZADO':\n",
        "            break\n",
        "        archivo.write(chunk)\n",
        "\n",
        "# Esperar a que el proceso hijo termine\n",
        "hijo.join()\n",
        "\n",
        "# Imprimir un mensaje de confirmación\n",
        "print(f\"Se ha creado una copia de {archivo_a_copiar} en {archivo_destino}.\")\n"
      ]
    },
    {
      "cell_type": "markdown",
      "source": [
        "**Creo el archivo a copiar**"
      ],
      "metadata": {
        "id": "c2eTV4LRbzsF"
      }
    },
    {
      "cell_type": "code",
      "source": [
        "!echo 'texto de prueba' > prueba.txt"
      ],
      "metadata": {
        "id": "JHLZZxAHaLCl"
      },
      "execution_count": 92,
      "outputs": []
    },
    {
      "cell_type": "code",
      "source": [
        "!cat prueba.txt"
      ],
      "metadata": {
        "colab": {
          "base_uri": "https://localhost:8080/"
        },
        "id": "oHejWzjvZXZq",
        "outputId": "f54301f2-546a-4c67-dfce-a5e6c58c0633"
      },
      "execution_count": 93,
      "outputs": [
        {
          "output_type": "stream",
          "name": "stdout",
          "text": [
            "texto de prueba\n"
          ]
        }
      ]
    },
    {
      "cell_type": "markdown",
      "source": [
        "**Ejecuto el programa para hacer la copia**"
      ],
      "metadata": {
        "id": "mrNVKJd6cK4W"
      }
    },
    {
      "cell_type": "code",
      "source": [
        "!python copiar_archivo.py prueba.txt 1>salidaPython 2>/dev/null"
      ],
      "metadata": {
        "id": "1OMW6ZOvZSf0"
      },
      "execution_count": 94,
      "outputs": []
    },
    {
      "cell_type": "markdown",
      "source": [
        "**Muestro el archivo copiado**"
      ],
      "metadata": {
        "id": "O28YX1UicPTM"
      }
    },
    {
      "cell_type": "code",
      "source": [
        "!cat prueba_copia.txt"
      ],
      "metadata": {
        "colab": {
          "base_uri": "https://localhost:8080/"
        },
        "id": "jnnNQLqscC-D",
        "outputId": "37b37499-6384-4240-f467-ba43e44dbab2"
      },
      "execution_count": 95,
      "outputs": [
        {
          "output_type": "stream",
          "name": "stdout",
          "text": [
            "texto de prueba\n"
          ]
        }
      ]
    },
    {
      "cell_type": "code",
      "source": [
        "!cat salidaPython"
      ],
      "metadata": {
        "colab": {
          "base_uri": "https://localhost:8080/"
        },
        "id": "hjipOxmffGqm",
        "outputId": "ddf2b361-c6ee-4a36-cc1e-8cee1e8297d2"
      },
      "execution_count": 96,
      "outputs": [
        {
          "output_type": "stream",
          "name": "stdout",
          "text": [
            "Se ha creado una copia de prueba.txt en prueba_copia.txt.\n"
          ]
        }
      ]
    },
    {
      "cell_type": "code",
      "source": [
        "!ls\n"
      ],
      "metadata": {
        "colab": {
          "base_uri": "https://localhost:8080/"
        },
        "id": "t-5O7CpSahg7",
        "outputId": "1087d8fd-5b41-487b-d6bc-f0c7fd663a60"
      },
      "execution_count": 97,
      "outputs": [
        {
          "output_type": "stream",
          "name": "stdout",
          "text": [
            "copiar_archivo.py  prueba_copia.txt  prueba.txt  salidaPython  sample_data\n"
          ]
        }
      ]
    }
  ]
}