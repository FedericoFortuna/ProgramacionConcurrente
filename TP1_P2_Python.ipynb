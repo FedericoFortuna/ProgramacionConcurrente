{
  "nbformat": 4,
  "nbformat_minor": 0,
  "metadata": {
    "colab": {
      "provenance": [],
      "authorship_tag": "ABX9TyOo0T8lK51+WlEunO3Pjdk2",
      "include_colab_link": true
    },
    "kernelspec": {
      "name": "python3",
      "display_name": "Python 3"
    },
    "language_info": {
      "name": "python"
    }
  },
  "cells": [
    {
      "cell_type": "markdown",
      "metadata": {
        "id": "view-in-github",
        "colab_type": "text"
      },
      "source": [
        "<a href=\"https://colab.research.google.com/github/FedericoFortuna/ProgramacionConcurrente/blob/main/TP1_P2_Python.ipynb\" target=\"_parent\"><img src=\"https://colab.research.google.com/assets/colab-badge.svg\" alt=\"Open In Colab\"/></a>"
      ]
    },
    {
      "cell_type": "markdown",
      "source": [
        "# **Multiplicación de matrices en Python**"
      ],
      "metadata": {
        "id": "R59AmF1_g5Wp"
      }
    },
    {
      "cell_type": "code",
      "execution_count": 1,
      "metadata": {
        "colab": {
          "base_uri": "https://localhost:8080/"
        },
        "id": "faUNrI83gXl8",
        "outputId": "7d20688c-cdf0-4442-ee5d-af2b3552ed0a"
      },
      "outputs": [
        {
          "output_type": "stream",
          "name": "stdout",
          "text": [
            "Writing multiplicar_matrices.py\n"
          ]
        }
      ],
      "source": [
        "%%writefile multiplicar_matrices.py\n",
        "import random\n",
        "import threading\n",
        "import sys\n",
        "\n",
        "def multiplicacion_sec(a, b, n):\n",
        "    c = [[0 for j in range(n)] for i in range(n)]\n",
        "    for i in range(n):\n",
        "        for j in range(n):\n",
        "            for k in range(n):\n",
        "                c[i][j] += a[i][k] * b[k][j]\n",
        "    return c\n",
        "\n",
        "def multiplicacion_th(a, b, n):\n",
        "    c = [[0 for j in range(n)] for i in range(n)]\n",
        "    threads = []\n",
        "    for i in range(n):\n",
        "        t = threading.Thread(target=th_multiplicacion, args=(a[i], b, c, i, n))\n",
        "        threads.append(t)\n",
        "        t.start()\n",
        "    for t in threads:\n",
        "        t.join()\n",
        "    return c\n",
        "\n",
        "def th_multiplicacion(row, b, c, i, n):\n",
        "    for j in range(n):\n",
        "        for k in range(n):\n",
        "            c[i][j] += row[k] * b[k][j]\n",
        "          \n",
        "def mostrar_matriz(a):\n",
        "    for row in a:\n",
        "        print(row)\n",
        "      \n",
        "if __name__ == '__main__':\n",
        "    if len(sys.argv) < 2:\n",
        "      print(\"Debe ingresar el valor de n como parámetro\")\n",
        "      sys.exit(1)\n",
        "    n = int(sys.argv[1])\n",
        "    if n < 5 or n > 20:\n",
        "      print(\"El valor enviado por parametro debe ser mayor a 4 y menor a 21\")\n",
        "      sys.exit(1)\n",
        "    a = [[random.randint(-32, 32) for j in range(n)] for i in range(n)]\n",
        "    b = [[random.randint(-32, 32) for j in range(n)] for i in range(n)]\n",
        "\n",
        "    print(\"Matriz a:\")\n",
        "    mostrar_matriz(a)\n",
        "\n",
        "    print(\"Matriz b:\")\n",
        "    mostrar_matriz(b)\n",
        "\n",
        "    cs = multiplicacion_sec(a, b, n)\n",
        "    print(\"Matriz resultante de la multiplicación secuencial:\")\n",
        "    mostrar_matriz(cs)\n",
        "\n",
        "    ch = multiplicacion_th(a, b, n)\n",
        "    print(\"Matriz resultante de la multiplicación con hilos:\")\n",
        "    mostrar_matriz(ch)\n",
        "  \n",
        "    if cs == ch:\n",
        "        print(\"Las matrices resultantes son iguales\")\n",
        "    else:\n",
        "        print(\"Las matrices resultantes son diferentes\")"
      ]
    },
    {
      "cell_type": "code",
      "source": [
        "!python multiplicar_matrices.py 6 1>salidaPython 2>/dev/null"
      ],
      "metadata": {
        "id": "aJ-SvL5OhMG-"
      },
      "execution_count": 4,
      "outputs": []
    },
    {
      "cell_type": "code",
      "source": [
        "!cat salidaPython"
      ],
      "metadata": {
        "colab": {
          "base_uri": "https://localhost:8080/"
        },
        "id": "EpfJkaXBiACq",
        "outputId": "6d686262-f86a-40c4-ae73-d7652814ebef"
      },
      "execution_count": 5,
      "outputs": [
        {
          "output_type": "stream",
          "name": "stdout",
          "text": [
            "Matriz a:\n",
            "[-25, 4, 3, 21, -6, 24]\n",
            "[11, 14, 18, -4, -23, 12]\n",
            "[-23, 0, 7, 30, -30, 14]\n",
            "[-20, -23, -12, 19, -20, 29]\n",
            "[8, -2, -8, 30, -29, -12]\n",
            "[15, 32, -18, 20, -26, 24]\n",
            "Matriz b:\n",
            "[-31, -20, 26, 13, -29, -30]\n",
            "[30, 26, 19, 1, -23, 20]\n",
            "[-10, 31, -5, 16, -20, -28]\n",
            "[-30, -11, 19, 20, 26, 6]\n",
            "[16, 12, 26, -1, 21, -26]\n",
            "[21, 4, -24, 28, 6, 23]\n",
            "Matriz resultante de la multiplicación secuencial:\n",
            "[643, 490, -922, 825, 1137, 1580]\n",
            "[-97, 518, -500, 724, -1516, 296]\n",
            "[-443, 43, -1179, 835, 761, 1776]\n",
            "[-231, -903, -1752, 737, 1597, 1777]\n",
            "[-1844, -1186, 314, 267, 73, 602]\n",
            "[163, -462, 216, 1037, -693, 2042]\n",
            "Matriz resultante de la multiplicación con hilos:\n",
            "[643, 490, -922, 825, 1137, 1580]\n",
            "[-97, 518, -500, 724, -1516, 296]\n",
            "[-443, 43, -1179, 835, 761, 1776]\n",
            "[-231, -903, -1752, 737, 1597, 1777]\n",
            "[-1844, -1186, 314, 267, 73, 602]\n",
            "[163, -462, 216, 1037, -693, 2042]\n",
            "Las matrices resultantes son iguales\n"
          ]
        }
      ]
    }
  ]
}