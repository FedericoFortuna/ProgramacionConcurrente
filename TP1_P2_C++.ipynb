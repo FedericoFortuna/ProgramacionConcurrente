{
  "nbformat": 4,
  "nbformat_minor": 0,
  "metadata": {
    "colab": {
      "provenance": [],
      "authorship_tag": "ABX9TyN/5FOD4uMBeRNhhJzJK5h3",
      "include_colab_link": true
    },
    "kernelspec": {
      "name": "python3",
      "display_name": "Python 3"
    },
    "language_info": {
      "name": "python"
    }
  },
  "cells": [
    {
      "cell_type": "markdown",
      "metadata": {
        "id": "view-in-github",
        "colab_type": "text"
      },
      "source": [
        "<a href=\"https://colab.research.google.com/github/FedericoFortuna/ProgramacionConcurrente/blob/main/TP1_P2_C%2B%2B.ipynb\" target=\"_parent\"><img src=\"https://colab.research.google.com/assets/colab-badge.svg\" alt=\"Open In Colab\"/></a>"
      ]
    },
    {
      "cell_type": "markdown",
      "source": [
        "# **Multiplicación de matrices en C++**"
      ],
      "metadata": {
        "id": "2g4qY0-thDRS"
      }
    },
    {
      "cell_type": "code",
      "execution_count": 1,
      "metadata": {
        "colab": {
          "base_uri": "https://localhost:8080/"
        },
        "id": "iS74pCdrgtWl",
        "outputId": "9215b85c-7dc6-4c1f-9a2f-299650e978ca"
      },
      "outputs": [
        {
          "output_type": "stream",
          "name": "stdout",
          "text": [
            "Writing multiplicacion_matrices.cpp\n"
          ]
        }
      ],
      "source": [
        "%%writefile multiplicacion_matrices.cpp\n",
        "#include <cstdlib>\n",
        "#include <ctime>\n",
        "#include <iostream>\n",
        "#include <thread>\n",
        "\n",
        "using namespace std;\n",
        "\n",
        "int **crearMatriz(int filas, int columnas) \n",
        "{\n",
        "  int **matriz = new int *[filas];\n",
        "  for (int i = 0; i < filas; i++) \n",
        "  {\n",
        "    matriz[i] = new int[columnas];\n",
        "  }\n",
        "  return matriz;\n",
        "}\n",
        "\n",
        "bool sonIguales(int **A, int **B, int N) \n",
        "{\n",
        "  for (int i = 0; i < N; i++) \n",
        "  {\n",
        "    for (int j = 0; j < N; j++) \n",
        "    {\n",
        "      if (A[i][j] != B[i][j]) \n",
        "      {\n",
        "        return false;\n",
        "      }\n",
        "    }\n",
        "  }\n",
        "  return true;\n",
        "}\n",
        "\n",
        "void generarMatriz(int **matriz, int N) \n",
        "{\n",
        "\n",
        "  for (int i = 0; i < N; i++) \n",
        "  {\n",
        "    for (int j = 0; j < N; j++) \n",
        "    {\n",
        "      matriz[i][j] = rand() % 65 - 32;\n",
        "    }\n",
        "  }\n",
        "}\n",
        "\n",
        "void multiplicarMatrices(int **A, int **B, int **CS, int N) \n",
        "{\n",
        "  for (int i = 0; i < N; i++) \n",
        "  {\n",
        "    for (int j = 0; j < N; j++) \n",
        "    {\n",
        "      CS[i][j] = 0;\n",
        "      for (int k = 0; k < N; k++) \n",
        "      {\n",
        "        CS[i][j] += A[i][k] * B[k][j];\n",
        "      }\n",
        "    }\n",
        "  }\n",
        "}\n",
        "\n",
        "void multiplicarFilaPorColumnas(int **A, int **B, int **CS, int fila, int N) \n",
        "{\n",
        "  for (int j = 0; j < N; j++) \n",
        "  {\n",
        "    CS[fila][j] = 0;\n",
        "    for (int k = 0; k < N; k++) \n",
        "    {\n",
        "      CS[fila][j] += A[fila][k] * B[k][j];\n",
        "    }\n",
        "  }\n",
        "}\n",
        "\n",
        "void multiplicarMatricesConHilos(int **A, int **B, int **CS, int N) \n",
        "{\n",
        "  std::thread hilos[N];\n",
        "  for (int i = 0; i < N; i++) \n",
        "  {\n",
        "    hilos[i] = std::thread(multiplicarFilaPorColumnas, A, B, CS, i, N);\n",
        "  }\n",
        "  for (int i = 0; i < N; i++) \n",
        "  {\n",
        "    hilos[i].join();\n",
        "  }\n",
        "}\n",
        "\n",
        "void mostrarMatriz(int **matriz, int N) \n",
        "{\n",
        "  for (int i = 0; i < N; i++) \n",
        "  {\n",
        "    for (int j = 0; j < N; j++) \n",
        "    {\n",
        "      std::cout << matriz[i][j] << \" \";\n",
        "    }\n",
        "    std::cout << std::endl;\n",
        "  }\n",
        "}\n",
        "\n",
        "int main(int argc, char *argv[]) \n",
        "{\n",
        "  if (argc != 2) \n",
        "  {\n",
        "    cout << \"Error: debe indicar el valor de N como parametro.\" << endl;\n",
        "    return 1;\n",
        "  }\n",
        "  int N = atoi(argv[1]);\n",
        "  if (N < 5 || N > 20) \n",
        "  {\n",
        "    cout << \"Error: el valor de N debe estar entre 5 y 20.\" << endl;\n",
        "    return 1;\n",
        "  }\n",
        "  int **A = crearMatriz(N, N);\n",
        "  int **B = crearMatriz(N, N);\n",
        "  int **CS = crearMatriz(N, N);\n",
        "  int **CH = crearMatriz(N, N);\n",
        "\n",
        "  srand(time(0));\n",
        "  generarMatriz(A, N);\n",
        "\n",
        "  srand(time(0)*1000);\n",
        "  generarMatriz(B, N);\n",
        "\n",
        "  multiplicarMatrices(A, B, CS, N);\n",
        "  cout << \"\\nMatriz A:\\n\" << endl;\n",
        "  mostrarMatriz(A, N);\n",
        "  cout << \"\\nMatriz B:\\n\" << endl;\n",
        "  mostrarMatriz(B, N);\n",
        "  cout << \"\\nMatriz CS:\\n\" << endl;\n",
        "  mostrarMatriz(CS, N);\n",
        "  cout << \"\\nMatriz CH:\\n\" << endl;\n",
        "  multiplicarMatricesConHilos(A, B, CH, N);\n",
        "  mostrarMatriz(CH, N);\n",
        "  cout << endl;\n",
        "\n",
        "  if (sonIguales(CS, CH, N)) \n",
        "  {\n",
        "    cout << \"Las matrices resultado son iguales.\" << endl;\n",
        "  } else \n",
        "  {\n",
        "    cout << \"Las matrices resultado son diferentes.\" << endl;\n",
        "  }\n",
        "\n",
        "  for (int i = 0; i < N; i++) \n",
        "  {\n",
        "    delete[] A[i];\n",
        "    delete[] B[i];\n",
        "    delete[] CS[i];\n",
        "  }\n",
        "  delete[] A;\n",
        "  delete[] B;\n",
        "  delete[] CS;\n",
        "  return 0;\n",
        "}"
      ]
    },
    {
      "cell_type": "code",
      "source": [
        "!g++ -pthread -o multiplicacion_matrices.bin multiplicacion_matrices.cpp "
      ],
      "metadata": {
        "id": "-j_GO6GEhU3N"
      },
      "execution_count": 2,
      "outputs": []
    },
    {
      "cell_type": "code",
      "source": [
        "!./multiplicacion_matrices.bin 5 1>salidaC++ 2>/dev/null &"
      ],
      "metadata": {
        "id": "gp61DcCWhvzj"
      },
      "execution_count": 3,
      "outputs": []
    },
    {
      "cell_type": "code",
      "source": [
        "!cat salidaC++"
      ],
      "metadata": {
        "colab": {
          "base_uri": "https://localhost:8080/"
        },
        "id": "i1r9jlW7lOpk",
        "outputId": "a1c0b18e-06b4-4535-d0c5-3b0ac021707e"
      },
      "execution_count": 4,
      "outputs": [
        {
          "output_type": "stream",
          "name": "stdout",
          "text": [
            "\n",
            "Matriz A:\n",
            "\n",
            "-17 13 5 -13 -20 \n",
            "32 -26 11 9 -4 \n",
            "11 -32 25 11 -30 \n",
            "-19 -14 -15 1 -32 \n",
            "-17 -17 21 16 -27 \n",
            "\n",
            "Matriz B:\n",
            "\n",
            "28 17 22 27 -20 \n",
            "22 16 -19 -11 -30 \n",
            "31 -29 31 4 2 \n",
            "13 11 29 23 -17 \n",
            "13 -9 -27 27 11 \n",
            "\n",
            "Matriz CS:\n",
            "\n",
            "-464 -189 -303 -1421 -39 \n",
            "730 -56 1908 1293 -35 \n",
            "132 -659 2754 192 273 \n",
            "-1708 187 276 -1260 401 \n",
            "-342 -751 1793 -549 323 \n",
            "\n",
            "Matriz CH:\n",
            "\n",
            "-464 -189 -303 -1421 -39 \n",
            "730 -56 1908 1293 -35 \n",
            "132 -659 2754 192 273 \n",
            "-1708 187 276 -1260 401 \n",
            "-342 -751 1793 -549 323 \n",
            "\n",
            "Las matrices resultado son iguales.\n"
          ]
        }
      ]
    }
  ]
}