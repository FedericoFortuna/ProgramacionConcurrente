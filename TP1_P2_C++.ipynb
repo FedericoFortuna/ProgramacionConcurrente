{
  "nbformat": 4,
  "nbformat_minor": 0,
  "metadata": {
    "colab": {
      "provenance": [],
      "authorship_tag": "ABX9TyO78JAhJyb1B9b03MejXxB7",
      "include_colab_link": true
    },
    "kernelspec": {
      "name": "python3",
      "display_name": "Python 3"
    },
    "language_info": {
      "name": "python"
    }
  },
  "cells": [
    {
      "cell_type": "markdown",
      "metadata": {
        "id": "view-in-github",
        "colab_type": "text"
      },
      "source": [
        "<a href=\"https://colab.research.google.com/github/FedericoFortuna/ProgramacionConcurrente/blob/main/TP1_P2_C%2B%2B.ipynb\" target=\"_parent\"><img src=\"https://colab.research.google.com/assets/colab-badge.svg\" alt=\"Open In Colab\"/></a>"
      ]
    },
    {
      "cell_type": "markdown",
      "source": [
        "# **Multiplicación de matrices en C++**"
      ],
      "metadata": {
        "id": "2g4qY0-thDRS"
      }
    },
    {
      "cell_type": "code",
      "execution_count": 5,
      "metadata": {
        "colab": {
          "base_uri": "https://localhost:8080/"
        },
        "id": "iS74pCdrgtWl",
        "outputId": "8dc22ad9-e6cf-4e37-8e9b-943c2af3ff2c"
      },
      "outputs": [
        {
          "output_type": "stream",
          "name": "stdout",
          "text": [
            "Overwriting multiplicacion_matrices.cpp\n"
          ]
        }
      ],
      "source": [
        "%%writefile multiplicacion_matrices.cpp\n",
        "#include <cstdlib>\n",
        "#include <ctime>\n",
        "#include <iostream>\n",
        "#include <thread>\n",
        "\n",
        "using namespace std;\n",
        "\n",
        "int **createMatrix(int rows, int cols) \n",
        "{\n",
        "  int **matrix = new int *[rows];\n",
        "  for (int i = 0; i < rows; i++) \n",
        "  {\n",
        "    matrix[i] = new int[cols];\n",
        "  }\n",
        "  return matrix;\n",
        "}\n",
        "\n",
        "bool sonIguales(int **A, int **B, int N) \n",
        "{\n",
        "  for (int i = 0; i < N; i++) \n",
        "  {\n",
        "    for (int j = 0; j < N; j++) \n",
        "    {\n",
        "      if (A[i][j] != B[i][j]) \n",
        "      {\n",
        "        return false;\n",
        "      }\n",
        "    }\n",
        "  }\n",
        "  return true;\n",
        "}\n",
        "\n",
        "void generarMatriz(int **matriz, int N) \n",
        "{\n",
        "\n",
        "  for (int i = 0; i < N; i++) \n",
        "  {\n",
        "    for (int j = 0; j < N; j++) \n",
        "    {\n",
        "      matriz[i][j] = rand() % 65 - 32;\n",
        "    }\n",
        "  }\n",
        "}\n",
        "\n",
        "void multiplicarMatrices(int **A, int **B, int **CS, int N) \n",
        "{\n",
        "  for (int i = 0; i < N; i++) \n",
        "  {\n",
        "    for (int j = 0; j < N; j++) \n",
        "    {\n",
        "      CS[i][j] = 0;\n",
        "      for (int k = 0; k < N; k++) \n",
        "      {\n",
        "        CS[i][j] += A[i][k] * B[k][j];\n",
        "      }\n",
        "    }\n",
        "  }\n",
        "}\n",
        "\n",
        "void multiplicarFilaPorColumnas(int **A, int **B, int **CS, int fila, int N) \n",
        "{\n",
        "  for (int j = 0; j < N; j++) \n",
        "  {\n",
        "    CS[fila][j] = 0;\n",
        "    for (int k = 0; k < N; k++) \n",
        "    {\n",
        "      CS[fila][j] += A[fila][k] * B[k][j];\n",
        "    }\n",
        "  }\n",
        "}\n",
        "\n",
        "void multiplicarMatricesConHilos(int **A, int **B, int **CS, int N) \n",
        "{\n",
        "  std::thread hilos[N];\n",
        "  for (int i = 0; i < N; i++) \n",
        "  {\n",
        "    hilos[i] = std::thread(multiplicarFilaPorColumnas, A, B, CS, i, N);\n",
        "  }\n",
        "  for (int i = 0; i < N; i++) \n",
        "  {\n",
        "    hilos[i].join();\n",
        "  }\n",
        "}\n",
        "\n",
        "void mostrarMatriz(int **matriz, int N) \n",
        "{\n",
        "  for (int i = 0; i < N; i++) \n",
        "  {\n",
        "    for (int j = 0; j < N; j++) \n",
        "    {\n",
        "      std::cout << matriz[i][j] << \" \";\n",
        "    }\n",
        "    std::cout << std::endl;\n",
        "  }\n",
        "}\n",
        "\n",
        "int main(int argc, char *argv[]) \n",
        "{\n",
        "  if (argc != 2) \n",
        "  {\n",
        "    cout << \"Error: debe indicar el valor de N como parametro.\" << endl;\n",
        "    return 1;\n",
        "  }\n",
        "  int N = atoi(argv[1]);\n",
        "  if (N < 5 || N > 20) \n",
        "  {\n",
        "    cout << \"Error: el valor de N debe estar entre 5 y 20.\" << endl;\n",
        "    return 1;\n",
        "  }\n",
        "  int **A = createMatrix(N, N);\n",
        "  int **B = createMatrix(N, N);\n",
        "  int **CS = createMatrix(N, N);\n",
        "  int **CH = createMatrix(N, N);\n",
        "\n",
        "  srand(time(0));\n",
        "  generarMatriz(A, N);\n",
        "\n",
        "  srand(time(0)*1000);\n",
        "  generarMatriz(B, N);\n",
        "\n",
        "  multiplicarMatrices(A, B, CS, N);\n",
        "  cout << \"\\nMatriz A:\\n\" << endl;\n",
        "  mostrarMatriz(A, N);\n",
        "  cout << \"\\nMatriz B:\\n\" << endl;\n",
        "  mostrarMatriz(B, N);\n",
        "  cout << \"\\nMatriz CS:\\n\" << endl;\n",
        "  mostrarMatriz(CS, N);\n",
        "  cout << \"\\nMatriz CH:\\n\" << endl;\n",
        "  multiplicarMatricesConHilos(A, B, CH, N);\n",
        "  mostrarMatriz(CH, N);\n",
        "  cout << endl;\n",
        "\n",
        "  if (sonIguales(CS, CH, N)) \n",
        "  {\n",
        "    cout << \"Las matrices resultado son iguales.\" << endl;\n",
        "  } else \n",
        "  {\n",
        "    cout << \"Las matrices resultado son diferentes.\" << endl;\n",
        "  }\n",
        "\n",
        "  for (int i = 0; i < N; i++) \n",
        "  {\n",
        "    delete[] A[i];\n",
        "    delete[] B[i];\n",
        "    delete[] CS[i];\n",
        "  }\n",
        "  delete[] A;\n",
        "  delete[] B;\n",
        "  delete[] CS;\n",
        "  return 0;\n",
        "}"
      ]
    },
    {
      "cell_type": "code",
      "source": [
        "!g++ -pthread -o multiplicacion_matrices.bin multiplicacion_matrices.cpp "
      ],
      "metadata": {
        "id": "-j_GO6GEhU3N"
      },
      "execution_count": 7,
      "outputs": []
    },
    {
      "cell_type": "code",
      "source": [
        "!./multiplicacion_matrices.bin 5 1>salidaC++ 2>/dev/null &"
      ],
      "metadata": {
        "id": "gp61DcCWhvzj"
      },
      "execution_count": 10,
      "outputs": []
    },
    {
      "cell_type": "code",
      "source": [
        "!cat salidaC++"
      ],
      "metadata": {
        "colab": {
          "base_uri": "https://localhost:8080/"
        },
        "id": "i1r9jlW7lOpk",
        "outputId": "621566fd-0d4d-40ac-ad76-fc8d8f9c2225"
      },
      "execution_count": 11,
      "outputs": [
        {
          "output_type": "stream",
          "name": "stdout",
          "text": [
            "\n",
            "Matriz A:\n",
            "\n",
            "-1 24 -19 17 22 \n",
            "1 -21 -3 2 12 \n",
            "13 20 -19 -18 -16 \n",
            "-25 4 -30 -25 22 \n",
            "21 -9 18 12 22 \n",
            "\n",
            "Matriz B:\n",
            "\n",
            "29 -12 -2 0 -28 \n",
            "2 9 -7 19 14 \n",
            "27 -25 6 4 15 \n",
            "-7 7 -20 -10 30 \n",
            "-17 28 5 -26 17 \n",
            "\n",
            "Matriz CS:\n",
            "\n",
            "-987 1438 -510 -362 963 \n",
            "-312 224 147 -743 -103 \n",
            "302 -75 0 900 -1181 \n",
            "-1726 1527 452 -366 -70 \n",
            "619 -83 -1 -791 290 \n",
            "\n",
            "Matriz CH:\n",
            "\n",
            "-987 1438 -510 -362 963 \n",
            "-312 224 147 -743 -103 \n",
            "302 -75 0 900 -1181 \n",
            "-1726 1527 452 -366 -70 \n",
            "619 -83 -1 -791 290 \n",
            "\n",
            "Las matrices resultado son iguales.\n"
          ]
        }
      ]
    }
  ]
}