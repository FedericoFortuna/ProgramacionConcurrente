{
  "nbformat": 4,
  "nbformat_minor": 0,
  "metadata": {
    "colab": {
      "provenance": [],
      "authorship_tag": "ABX9TyOBoeSU5FBghoxkeJ1tFHSY",
      "include_colab_link": true
    },
    "kernelspec": {
      "name": "python3",
      "display_name": "Python 3"
    },
    "language_info": {
      "name": "python"
    }
  },
  "cells": [
    {
      "cell_type": "markdown",
      "metadata": {
        "id": "view-in-github",
        "colab_type": "text"
      },
      "source": [
        "<a href=\"https://colab.research.google.com/github/FedericoFortuna/ProgramacionConcurrente/blob/main/TP1_P2_C%2B%2B.ipynb\" target=\"_parent\"><img src=\"https://colab.research.google.com/assets/colab-badge.svg\" alt=\"Open In Colab\"/></a>"
      ]
    },
    {
      "cell_type": "markdown",
      "source": [
        "# **Multiplicación de matrices en C++**"
      ],
      "metadata": {
        "id": "2g4qY0-thDRS"
      }
    },
    {
      "cell_type": "code",
      "execution_count": 1,
      "metadata": {
        "colab": {
          "base_uri": "https://localhost:8080/"
        },
        "id": "iS74pCdrgtWl",
        "outputId": "af0f1c44-60be-4727-b15a-23b41586c914"
      },
      "outputs": [
        {
          "output_type": "stream",
          "name": "stdout",
          "text": [
            "Writing multiplicacion_matrices.cpp\n"
          ]
        }
      ],
      "source": [
        "%%writefile multiplicacion_matrices.cpp\n",
        "#include <cstdlib>\n",
        "#include <ctime>\n",
        "#include <iostream>\n",
        "#include <thread>\n",
        "\n",
        "using namespace std;\n",
        "\n",
        "int **CrearMatriz(int filas, int columnas) \n",
        "{\n",
        "  int **matriz = new int *[filas];\n",
        "  for (int i = 0; i < filas; i++) \n",
        "  {\n",
        "    matriz[i] = new int[columnas];\n",
        "  }\n",
        "  return matriz;\n",
        "}\n",
        "\n",
        "bool SonIguales(int **a, int **b, int n) \n",
        "{\n",
        "  for (int i = 0; i < n; i++) \n",
        "  {\n",
        "    for (int j = 0; j < n; j++) \n",
        "    {\n",
        "      if (a[i][j] != b[i][j]) \n",
        "      {\n",
        "        return false;\n",
        "      }\n",
        "    }\n",
        "  }\n",
        "  return true;\n",
        "}\n",
        "\n",
        "void GenerarMatriz(int **matriz, int n) \n",
        "{\n",
        "\n",
        "  for (int i = 0; i < n; i++) \n",
        "  {\n",
        "    for (int j = 0; j < n; j++) \n",
        "    {\n",
        "      matriz[i][j] = rand() % 65 - 32;\n",
        "    }\n",
        "  }\n",
        "}\n",
        "\n",
        "void MultiplicarMatrices(int **a, int **b, int **cs, int n) \n",
        "{\n",
        "  for (int i = 0; i < n; i++) \n",
        "  {\n",
        "    for (int j = 0; j < n; j++) \n",
        "    {\n",
        "      cs[i][j] = 0;\n",
        "      for (int k = 0; k < n; k++) \n",
        "      {\n",
        "        cs[i][j] += a[i][k] * b[k][j];\n",
        "      }\n",
        "    }\n",
        "  }\n",
        "}\n",
        "\n",
        "void MultiplicarFilaPorColumnas(int **a, int **b, int **cs, int fila, int n) \n",
        "{\n",
        "  for (int j = 0; j < n; j++) \n",
        "  {\n",
        "    cs[fila][j] = 0;\n",
        "    for (int k = 0; k < n; k++) \n",
        "    {\n",
        "      cs[fila][j] += a[fila][k] * b[k][j];\n",
        "    }\n",
        "  }\n",
        "}\n",
        "\n",
        "void MultiplicarMatricesConHilos(int **a, int **b, int **cs, int n) \n",
        "{\n",
        "  std::thread hilos[n];\n",
        "  for (int i = 0; i < n; i++) \n",
        "  {\n",
        "    hilos[i] = std::thread(MultiplicarFilaPorColumnas, a, b, cs, i, n);\n",
        "  }\n",
        "  for (int i = 0; i < n; i++) \n",
        "  {\n",
        "    hilos[i].join();\n",
        "  }\n",
        "}\n",
        "\n",
        "void MostrarMatriz(int **matriz, int n) \n",
        "{\n",
        "  for (int i = 0; i < n; i++) \n",
        "  {\n",
        "    for (int j = 0; j < n; j++) \n",
        "    {\n",
        "      std::cout << matriz[i][j] << \" \";\n",
        "    }\n",
        "    std::cout << std::endl;\n",
        "  }\n",
        "}\n",
        "\n",
        "int main(int argc, char *argv[]) \n",
        "{\n",
        "  if (argc != 2) \n",
        "  {\n",
        "    cout << \"Error: debe indicar el valor de n como parametro.\" << endl;\n",
        "    return 1;\n",
        "  }\n",
        "  int n = atoi(argv[1]);\n",
        "  if (n < 5 || n > 20) \n",
        "  {\n",
        "    cout << \"Error: el valor de n debe estar entre 5 y 20.\" << endl;\n",
        "    return 1;\n",
        "  }\n",
        "  int **a = CrearMatriz(n, n);\n",
        "  int **b = CrearMatriz(n, n);\n",
        "  int **cs = CrearMatriz(n, n);\n",
        "  int **ch = CrearMatriz(n, n);\n",
        "\n",
        "  srand(time(0));\n",
        "  GenerarMatriz(a, n);\n",
        "\n",
        "  srand(time(0)*1000);\n",
        "  GenerarMatriz(b, n);\n",
        "\n",
        "  MultiplicarMatrices(a, b, cs, n);\n",
        "  cout << \"\\nMatriz a:\\n\" << endl;\n",
        "  MostrarMatriz(a, n);\n",
        "  cout << \"\\nMatriz b:\\n\" << endl;\n",
        "  MostrarMatriz(b, n);\n",
        "  cout << \"\\nMatriz cs:\\n\" << endl;\n",
        "  MostrarMatriz(cs, n);\n",
        "  cout << \"\\nMatriz ch:\\n\" << endl;\n",
        "  MultiplicarMatricesConHilos(a, b, ch, n);\n",
        "  MostrarMatriz(ch, n);\n",
        "  cout << endl;\n",
        "\n",
        "  if (SonIguales(cs, ch, n)) \n",
        "  {\n",
        "    cout << \"Las matrices resultado son iguales.\" << endl;\n",
        "  } else \n",
        "  {\n",
        "    cout << \"Las matrices resultado son diferentes.\" << endl;\n",
        "  }\n",
        "\n",
        "  for (int i = 0; i < n; i++) \n",
        "  {\n",
        "    delete[] a[i];\n",
        "    delete[] b[i];\n",
        "    delete[] cs[i];\n",
        "    delete[] ch[i];\n",
        "  }\n",
        "  delete[] a;\n",
        "  delete[] b;\n",
        "  delete[] cs;\n",
        "  delete[] ch;\n",
        "  return 0;\n",
        "}"
      ]
    },
    {
      "cell_type": "code",
      "source": [
        "!g++ -pthread -o multiplicacion_matrices.bin multiplicacion_matrices.cpp "
      ],
      "metadata": {
        "id": "-j_GO6GEhU3N"
      },
      "execution_count": 2,
      "outputs": []
    },
    {
      "cell_type": "code",
      "source": [
        "!./multiplicacion_matrices.bin 5 1>salidaC++ 2>/dev/null &"
      ],
      "metadata": {
        "id": "gp61DcCWhvzj"
      },
      "execution_count": 3,
      "outputs": []
    },
    {
      "cell_type": "code",
      "source": [
        "!cat salidaC++"
      ],
      "metadata": {
        "colab": {
          "base_uri": "https://localhost:8080/"
        },
        "id": "i1r9jlW7lOpk",
        "outputId": "ec52f6b8-19e6-4264-d37a-a2f028899bcf"
      },
      "execution_count": 4,
      "outputs": [
        {
          "output_type": "stream",
          "name": "stdout",
          "text": [
            "\n",
            "Matriz a:\n",
            "\n",
            "24 -3 21 30 -4 \n",
            "-18 -20 -28 8 32 \n",
            "0 -1 18 -25 26 \n",
            "29 -10 -25 29 -18 \n",
            "-31 21 3 -30 -4 \n",
            "\n",
            "Matriz b:\n",
            "\n",
            "-5 30 27 -11 13 \n",
            "-9 -29 -2 22 8 \n",
            "-9 -31 -6 -13 -20 \n",
            "-15 29 -14 20 14 \n",
            "20 -21 14 30 29 \n",
            "\n",
            "Matriz cs:\n",
            "\n",
            "-812 1110 52 -123 172 \n",
            "1042 468 58 1242 1206 \n",
            "742 -1800 608 24 36 \n",
            "-625 3154 295 -174 681 \n",
            "309 -2418 -533 44 -831 \n",
            "\n",
            "Matriz ch:\n",
            "\n",
            "-812 1110 52 -123 172 \n",
            "1042 468 58 1242 1206 \n",
            "742 -1800 608 24 36 \n",
            "-625 3154 295 -174 681 \n",
            "309 -2418 -533 44 -831 \n",
            "\n",
            "Las matrices resultado son iguales.\n"
          ]
        }
      ]
    }
  ]
}