{
  "nbformat": 4,
  "nbformat_minor": 0,
  "metadata": {
    "colab": {
      "provenance": [],
      "include_colab_link": true
    },
    "kernelspec": {
      "name": "python3",
      "display_name": "Python 3"
    },
    "language_info": {
      "name": "python"
    }
  },
  "cells": [
    {
      "cell_type": "markdown",
      "metadata": {
        "id": "view-in-github",
        "colab_type": "text"
      },
      "source": [
        "<a href=\"https://colab.research.google.com/github/FedericoFortuna/ProgramacionConcurrente/blob/main/TP1.ipynb\" target=\"_parent\"><img src=\"https://colab.research.google.com/assets/colab-badge.svg\" alt=\"Open In Colab\"/></a>"
      ]
    },
    {
      "cell_type": "markdown",
      "source": [
        "# **Arbol de procesos C++**"
      ],
      "metadata": {
        "id": "zzVNzvC5aM_I"
      }
    },
    {
      "cell_type": "code",
      "execution_count": null,
      "metadata": {
        "colab": {
          "base_uri": "https://localhost:8080/"
        },
        "id": "ztdR6E3Z_SH8",
        "outputId": "70f9f017-63aa-4785-d585-cea9eacdfe78"
      },
      "outputs": [
        {
          "output_type": "stream",
          "name": "stdout",
          "text": [
            "Overwriting fork.cpp\n"
          ]
        }
      ],
      "source": [
        "%%writefile fork.cpp\n",
        "#include <iostream>\n",
        "#include <unistd.h>\n",
        "#include <sys/types.h>\n",
        "#include <sys/wait.h>\n",
        "\n",
        "using namespace std;\n",
        "\n",
        "void crear_proceso(char letra) {\n",
        "    pid_t pid = getpid();\n",
        "    pid_t ppid = getppid();\n",
        "    cout << \"Proceso \" << letra << \" con PID \" << pid << \" y PPID \" << ppid << endl;\n",
        "\n",
        "    if (letra == 'A') {\n",
        "        pid_t b, c, d;\n",
        "        b = fork();\n",
        "        if (b == 0) {\n",
        "            crear_proceso('B');\n",
        "            exit(0);\n",
        "        }\n",
        "        c = fork();\n",
        "        if (c == 0) {\n",
        "            crear_proceso('C');\n",
        "            exit(0);\n",
        "        }\n",
        "        d = fork();\n",
        "        if (d == 0) {\n",
        "            crear_proceso('D');\n",
        "            exit(0);\n",
        "        }\n",
        "        sleep(50);\n",
        "        waitpid(b, NULL, 0);\n",
        "        waitpid(c, NULL, 0);\n",
        "        waitpid(d, NULL, 0);\n",
        "    }\n",
        "    else if (letra == 'B') {\n",
        "        pid_t e, f;\n",
        "        e = fork();\n",
        "        if (e == 0) {\n",
        "            crear_proceso('E');\n",
        "            exit(0);\n",
        "        }\n",
        "        f = fork();\n",
        "        if (f == 0) {\n",
        "            crear_proceso('F');\n",
        "            exit(0);\n",
        "        }\n",
        "        sleep(50);\n",
        "        waitpid(e, NULL, 0);\n",
        "        waitpid(f, NULL, 0);\n",
        "    }\n",
        "    else if (letra == 'D') {\n",
        "        pid_t g;\n",
        "        g = fork();\n",
        "        if (g == 0) {\n",
        "            crear_proceso('G');\n",
        "            exit(0);\n",
        "        }\n",
        "        sleep(50);\n",
        "        waitpid(g, NULL, 0);\n",
        "    }\n",
        "}\n",
        "\n",
        "int main() {\n",
        "    pid_t proceso_a;\n",
        "    proceso_a = fork();\n",
        "    if (proceso_a == 0) {\n",
        "        crear_proceso('A');\n",
        "        exit(0);\n",
        "    }\n",
        "    sleep(50);\n",
        "    waitpid(proceso_a, NULL, 0);\n",
        "    \n",
        "    return 0;\n",
        "}"
      ]
    },
    {
      "cell_type": "code",
      "source": [
        "!ls -la"
      ],
      "metadata": {
        "colab": {
          "base_uri": "https://localhost:8080/"
        },
        "id": "H1JKsIoCAGNx",
        "outputId": "eea9de9b-7426-42e8-a81b-1a94d05544da"
      },
      "execution_count": null,
      "outputs": [
        {
          "output_type": "stream",
          "name": "stdout",
          "text": [
            "total 56\n",
            "drwxr-xr-x 1 root root  4096 Apr 12 03:10 .\n",
            "drwxr-xr-x 1 root root  4096 Apr 12 02:21 ..\n",
            "drwxr-xr-x 4 root root  4096 Apr 10 13:30 .config\n",
            "-rw-r--r-- 1 root root  4181 Apr 12 02:55 crear_proceso.java\n",
            "-rwxr-xr-x 1 root root 17744 Apr 12 03:10 fork.bin\n",
            "-rw-r--r-- 1 root root  1509 Apr 12 03:11 fork.cpp\n",
            "-rw-r--r-- 1 root root   259 Apr 12 03:10 salidaC\n",
            "-rw-r--r-- 1 root root    53 Apr 12 02:58 salidaJava\n",
            "drwxr-xr-x 1 root root  4096 Apr 10 13:31 sample_data\n"
          ]
        }
      ]
    },
    {
      "cell_type": "code",
      "source": [
        "!g++ -o fork.bin fork.cpp "
      ],
      "metadata": {
        "id": "rHW2XJFyAMJp"
      },
      "execution_count": null,
      "outputs": []
    },
    {
      "cell_type": "code",
      "source": [
        "!ls -la"
      ],
      "metadata": {
        "colab": {
          "base_uri": "https://localhost:8080/"
        },
        "id": "6kPfRNPlBIDk",
        "outputId": "349161b8-c5b1-4bb7-d423-7c10de21cfdd"
      },
      "execution_count": null,
      "outputs": [
        {
          "output_type": "stream",
          "name": "stdout",
          "text": [
            "total 56\n",
            "drwxr-xr-x 1 root root  4096 Apr 12 03:11 .\n",
            "drwxr-xr-x 1 root root  4096 Apr 12 02:21 ..\n",
            "drwxr-xr-x 4 root root  4096 Apr 10 13:30 .config\n",
            "-rw-r--r-- 1 root root  4181 Apr 12 02:55 crear_proceso.java\n",
            "-rwxr-xr-x 1 root root 17744 Apr 12 03:11 fork.bin\n",
            "-rw-r--r-- 1 root root  1509 Apr 12 03:11 fork.cpp\n",
            "-rw-r--r-- 1 root root   259 Apr 12 03:10 salidaC\n",
            "-rw-r--r-- 1 root root    53 Apr 12 02:58 salidaJava\n",
            "drwxr-xr-x 1 root root  4096 Apr 10 13:31 sample_data\n"
          ]
        }
      ]
    },
    {
      "cell_type": "code",
      "source": [
        "!nohup ./fork.bin 1>salidaC 2>/dev/null & "
      ],
      "metadata": {
        "id": "65u1x3hZBN1Y"
      },
      "execution_count": null,
      "outputs": []
    },
    {
      "cell_type": "code",
      "source": [
        "!ps -ef | grep fork.bin"
      ],
      "metadata": {
        "colab": {
          "base_uri": "https://localhost:8080/"
        },
        "id": "8JER7_9SBRpM",
        "outputId": "f06b0209-3c27-44de-89a1-146ab5c24551"
      },
      "execution_count": null,
      "outputs": [
        {
          "output_type": "stream",
          "name": "stdout",
          "text": [
            "root       13191       1  0 03:11 ?        00:00:00 ./fork.bin\n",
            "root       13192   13191  0 03:11 ?        00:00:00 ./fork.bin\n",
            "root       13193   13192  0 03:11 ?        00:00:00 ./fork.bin\n",
            "root       13194   13192  0 03:11 ?        00:00:00 [fork.bin] <defunct>\n",
            "root       13195   13192  0 03:11 ?        00:00:00 ./fork.bin\n",
            "root       13196   13193  0 03:11 ?        00:00:00 [fork.bin] <defunct>\n",
            "root       13197   13193  0 03:11 ?        00:00:00 [fork.bin] <defunct>\n",
            "root       13198   13195  0 03:11 ?        00:00:00 [fork.bin] <defunct>\n",
            "root       13199     253  0 03:11 ?        00:00:00 /bin/bash -c ps -ef | grep fork.bin\n",
            "root       13201   13199  0 03:11 ?        00:00:00 grep fork.bin\n"
          ]
        }
      ]
    },
    {
      "cell_type": "code",
      "source": [
        "!pstree 12800              "
      ],
      "metadata": {
        "id": "f3plkrrACq_q"
      },
      "execution_count": null,
      "outputs": []
    },
    {
      "cell_type": "markdown",
      "source": [
        "# **Arbol de procesos Phyton**"
      ],
      "metadata": {
        "id": "tuVaA7J3ajrm"
      }
    },
    {
      "cell_type": "code",
      "source": [
        "%%writefile fork.py\n",
        "import multiprocessing\n",
        "import os\n",
        "import time\n",
        "\n",
        "def crear_proceso(letra):\n",
        "    pid = os.getpid()\n",
        "    ppid = os.getppid()\n",
        "    print(f\"Proceso {letra} con PID {pid} y PPID {ppid}\")\n",
        "\n",
        "    if letra == \"A\":\n",
        "        b = multiprocessing.Process(target=crear_proceso, args=(\"B\",))\n",
        "        c = multiprocessing.Process(target=crear_proceso, args=(\"C\",))\n",
        "        d = multiprocessing.Process(target=crear_proceso, args=(\"D\",))\n",
        "        b.start()\n",
        "        c.start()\n",
        "        d.start()\n",
        "        time.sleep(15)\n",
        "        b.join()\n",
        "        c.join()\n",
        "        d.join()\n",
        "    elif letra == \"B\":\n",
        "        e = multiprocessing.Process(target=crear_proceso, args=(\"E\",))\n",
        "        f = multiprocessing.Process(target=crear_proceso, args=(\"F\",))\n",
        "        e.start()\n",
        "        f.start()\n",
        "        time.sleep(15)\n",
        "        e.join()\n",
        "        f.join()\n",
        "    elif letra == \"D\":\n",
        "        g = multiprocessing.Process(target=crear_proceso, args=(\"G\",))\n",
        "        g.start()\n",
        "        time.sleep(15)\n",
        "        g.join()\n",
        "\n",
        "if __name__ == '__main__':\n",
        "    proceso_a = multiprocessing.Process(target=crear_proceso, args=(\"A\",))\n",
        "    proceso_a.start()\n",
        "    proceso_a.join()\n",
        "    time.sleep(15)"
      ],
      "metadata": {
        "colab": {
          "base_uri": "https://localhost:8080/"
        },
        "id": "xiXcUdigE12p",
        "outputId": "a8e71fee-17b0-4ae2-b9bc-025fe08dc1d2"
      },
      "execution_count": null,
      "outputs": [
        {
          "output_type": "stream",
          "name": "stdout",
          "text": [
            "Writing fork.py\n"
          ]
        }
      ]
    },
    {
      "cell_type": "code",
      "source": [
        "!chmod 700 ./fork.py"
      ],
      "metadata": {
        "id": "nfL_rsRKFEFx"
      },
      "execution_count": null,
      "outputs": []
    },
    {
      "cell_type": "code",
      "source": [
        "!nohup python fork.py 1>salidaPython 2>/dev/null &"
      ],
      "metadata": {
        "id": "NA3adPMVFGME"
      },
      "execution_count": null,
      "outputs": []
    },
    {
      "cell_type": "code",
      "source": [
        "!ps -ef | grep fork.py"
      ],
      "metadata": {
        "colab": {
          "base_uri": "https://localhost:8080/"
        },
        "id": "e-duFWDTFHqe",
        "outputId": "3ea53a53-b20e-4730-c238-312aa7bee663"
      },
      "execution_count": null,
      "outputs": [
        {
          "output_type": "stream",
          "name": "stdout",
          "text": [
            "root        8731       1  1 02:55 ?        00:00:00 python3 fork.py\n",
            "root        8733    8731  0 02:55 ?        00:00:00 python3 fork.py\n",
            "root        8734    8733  0 02:55 ?        00:00:00 python3 fork.py\n",
            "root        8737    8733  0 02:55 ?        00:00:00 python3 fork.py\n",
            "root        8756     231  0 02:55 ?        00:00:00 /bin/bash -c ps -ef | grep fork.py\n",
            "root        8758    8756  0 02:55 ?        00:00:00 grep fork.py\n"
          ]
        }
      ]
    },
    {
      "cell_type": "code",
      "source": [
        "!pstree -pc 8731             "
      ],
      "metadata": {
        "id": "XwCDPpdgFJC5",
        "colab": {
          "base_uri": "https://localhost:8080/"
        },
        "outputId": "c6145bbb-6b44-48c3-dc55-791e2aadafd3"
      },
      "execution_count": null,
      "outputs": [
        {
          "output_type": "stream",
          "name": "stdout",
          "text": [
            "python3(8731)───python3(8733)─┬─python3(8734)─┬─python3(8736)\n",
            "                              │               └─python3(8738)\n",
            "                              ├─python3(8735)\n",
            "                              └─python3(8737)───python3(8739)\n"
          ]
        }
      ]
    },
    {
      "cell_type": "markdown",
      "source": [
        "# **Arbol de procesos Java**"
      ],
      "metadata": {
        "id": "cgS5tnMYasny"
      }
    },
    {
      "cell_type": "code",
      "source": [
        "%%writefile Main.java\n",
        "import java.io.File;\n",
        "import java.io.IOException;\n",
        "import java.lang.ProcessBuilder.Redirect;\n",
        "\n",
        "public class Main {\n",
        "\n",
        "    public static void main(String[] args) {\n",
        "      System.out.println(\"Proceso A con PID \" + ProcessHandle.current().pid() + \" y PPID \" + ProcessHandle.current().parent().get().pid());\n",
        "        //System.out.println(\"Proceso padre con PID \" + pid());\n",
        "  \n",
        "        \n",
        "        String javaHome = System.getProperty(\"java.home\");\n",
        "        String javaBin = javaHome + File.separator + \"bin\" + File.separator + \"java\";\n",
        "        ProcessBuilder builderD = new ProcessBuilder(javaBin, \"ProcesoD\");\n",
        "        ProcessBuilder builderB = new ProcessBuilder(javaBin, \"ProcesoB\");\n",
        "        ProcessBuilder builderC = new ProcessBuilder(javaBin, \"ProcesoC\");\n",
        "\n",
        "        builderD.redirectInput(Redirect.INHERIT);\n",
        "        builderB.redirectInput(Redirect.INHERIT);\n",
        "        builderC.redirectInput(Redirect.INHERIT);\n",
        "\n",
        "        builderD.redirectOutput(Redirect.INHERIT);\n",
        "        builderB.redirectOutput(Redirect.INHERIT);\n",
        "        builderC.redirectOutput(Redirect.INHERIT);\n",
        "        try {\n",
        "            Process processB = builderB.start();\n",
        "            Process processC = builderC.start();\n",
        "            Process processD = builderD.start();\n",
        "            Thread.sleep(50000);\n",
        "        } catch (IOException e) {\n",
        "            e.printStackTrace();\n",
        "        } catch (InterruptedException e) {\n",
        "            e.printStackTrace();\n",
        "        }\n",
        "        System.out.println(\"Parent exits.\");\n",
        "    }\n",
        "}\n",
        "\n",
        "class ProcesoB {\n",
        "\n",
        "  public static void main(String[] args) {\n",
        "    String javaHome = System.getProperty(\"java.home\");\n",
        "        String javaBin = javaHome + File.separator + \"bin\" + File.separator + \"java\";\n",
        "    System.out.println(\"Proceso B con PID \" + ProcessHandle.current().pid() + \" y PPID \" + ProcessHandle.current().parent().get().pid());\n",
        "    ProcessBuilder builderE = new ProcessBuilder(javaBin, \"ProcesoSleep\");\n",
        "    ProcessBuilder builderF = new ProcessBuilder(javaBin, \"ProcesoSleep\");\n",
        "    builderE.redirectInput(Redirect.INHERIT);\n",
        "    builderF.redirectInput(Redirect.INHERIT);\n",
        "    builderE.redirectOutput(Redirect.INHERIT);\n",
        "    builderF.redirectOutput(Redirect.INHERIT);\n",
        "    \n",
        "    \n",
        "    try {\n",
        "            Process processE = builderE.start();\n",
        "            Process processF = builderF.start();\n",
        "            Thread.sleep(20000);\n",
        "        \n",
        "        } catch (InterruptedException e) {\n",
        "            e.printStackTrace();\n",
        "        } catch (IOException e) {\n",
        "            e.printStackTrace();\n",
        "    }\n",
        "}\n",
        "}\n",
        "class ProcesoC {\n",
        "\n",
        "  public static void main(String[] args) {\n",
        "    try {\n",
        "    System.out.println(\"Proceso C con PID \" + ProcessHandle.current().pid() + \" y PPID \" + ProcessHandle.current().parent().get().pid());\n",
        "            Thread.sleep(20000);\n",
        "        \n",
        "        } catch (InterruptedException e) {\n",
        "            e.printStackTrace();\n",
        "        }\n",
        "    }\n",
        "}\n",
        "\n",
        "\n",
        "class ProcesoD {\n",
        "\n",
        "  public static void main(String[] args) {\n",
        "    String javaHome = System.getProperty(\"java.home\");\n",
        "        String javaBin = javaHome + File.separator + \"bin\" + File.separator + \"java\";\n",
        "    System.out.println(\"Proceso D con PID \" + ProcessHandle.current().pid() + \" y PPID \" + ProcessHandle.current().parent().get().pid());\n",
        "    ProcessBuilder builderG = new ProcessBuilder(javaBin, \"ProcesoSleep\");\n",
        "    \n",
        "    builderG.redirectInput(Redirect.INHERIT);\n",
        "    builderG.redirectOutput(Redirect.INHERIT);\n",
        "    \n",
        "    \n",
        "    try {\n",
        "            Process processG = builderG.start();\n",
        "            Thread.sleep(20000);\n",
        "        \n",
        "        } catch (InterruptedException e) {\n",
        "            e.printStackTrace();\n",
        "        } catch (IOException e) {\n",
        "            e.printStackTrace();\n",
        "    }\n",
        "}\n",
        "}\n",
        "\n",
        "class ProcesoSleep {\n",
        "\n",
        "  public static void main(String[] args) {\n",
        "    try {\n",
        "    System.out.println(\"Proceso con PID \" + ProcessHandle.current().pid() + \" y PPID \" + ProcessHandle.current().parent().get().pid());\n",
        "            Thread.sleep(20000);\n",
        "        \n",
        "        } catch (InterruptedException e) {\n",
        "            e.printStackTrace();\n",
        "        }\n",
        "    }\n",
        "}"
      ],
      "metadata": {
        "colab": {
          "base_uri": "https://localhost:8080/"
        },
        "id": "nbN6hoTGFlIi",
        "outputId": "37e68f5b-1f8f-48d5-b920-0f19135d71b5"
      },
      "execution_count": 1,
      "outputs": [
        {
          "output_type": "stream",
          "name": "stdout",
          "text": [
            "Writing Main.java\n"
          ]
        }
      ]
    },
    {
      "cell_type": "code",
      "source": [
        "!javac Main.java"
      ],
      "metadata": {
        "id": "tW7ft9ZqfFXe"
      },
      "execution_count": 2,
      "outputs": []
    },
    {
      "cell_type": "code",
      "source": [
        "!nohup java Main 1>salidaJava 2>/dev/null & "
      ],
      "metadata": {
        "id": "05LKzbSrgLLZ"
      },
      "execution_count": 3,
      "outputs": []
    },
    {
      "cell_type": "code",
      "source": [
        "!pstree -pT"
      ],
      "metadata": {
        "colab": {
          "base_uri": "https://localhost:8080/"
        },
        "id": "qK6L32Q3gUFw",
        "outputId": "f965752e-f599-44ea-9b05-49216c17eacb"
      },
      "execution_count": 4,
      "outputs": [
        {
          "output_type": "stream",
          "name": "stdout",
          "text": [
            "docker-init(1)─┬─java(469)─┬─java(490)─┬─java(548)\n",
            "               │           │           └─java(552)\n",
            "               │           ├─java(498)\n",
            "               │           └─java(501)───java(566)\n",
            "               ├─node(7)─┬─colab-fileshim.(65)\n",
            "               │         ├─dap_multiplexer(83)\n",
            "               │         ├─jupyter-noteboo(82)───python3(296)───pstree(610)\n",
            "               │         ├─node(370)\n",
            "               │         ├─oom_monitor.sh(30)───sleep(609)\n",
            "               │         └─python3(64)\n",
            "               ├─python3(335)\n",
            "               └─run.sh(32)───kernel_manager_(34)\n"
          ]
        }
      ]
    }
  ]
}