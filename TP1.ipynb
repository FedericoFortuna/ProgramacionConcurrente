{
  "nbformat": 4,
  "nbformat_minor": 0,
  "metadata": {
    "colab": {
      "provenance": [],
      "include_colab_link": true
    },
    "kernelspec": {
      "name": "python3",
      "display_name": "Python 3"
    },
    "language_info": {
      "name": "python"
    }
  },
  "cells": [
    {
      "cell_type": "markdown",
      "metadata": {
        "id": "view-in-github",
        "colab_type": "text"
      },
      "source": [
        "<a href=\"https://colab.research.google.com/github/FedericoFortuna/ProgramacionConcurrente/blob/main/TP1.ipynb\" target=\"_parent\"><img src=\"https://colab.research.google.com/assets/colab-badge.svg\" alt=\"Open In Colab\"/></a>"
      ]
    },
    {
      "cell_type": "markdown",
      "source": [
        "# **Arbol de procesos C++**"
      ],
      "metadata": {
        "id": "zzVNzvC5aM_I"
      }
    },
    {
      "cell_type": "code",
      "execution_count": null,
      "metadata": {
        "colab": {
          "base_uri": "https://localhost:8080/"
        },
        "id": "ztdR6E3Z_SH8",
        "outputId": "8d85f1fe-b138-40ba-b66a-afbbcfb7978d"
      },
      "outputs": [
        {
          "output_type": "stream",
          "name": "stdout",
          "text": [
            "Overwriting fork.cpp\n"
          ]
        }
      ],
      "source": [
        "%%writefile fork.cpp\n",
        "#include <iostream>\n",
        "#include <unistd.h>\n",
        "#include <sys/types.h>\n",
        "#include <sys/wait.h>\n",
        "\n",
        "using namespace std;\n",
        "\n",
        "void crear_proceso(char letra) \n",
        "{\n",
        "    pid_t pid = getpid();\n",
        "    pid_t ppid = getppid();\n",
        "    cout << \"Proceso \" << letra << \" con PID \" << pid << \" y PPID \" << ppid << endl;\n",
        "\n",
        "    if (letra == 'A') \n",
        "    {\n",
        "        pid_t b, c, d;\n",
        "        b = fork();\n",
        "        if (b == 0) \n",
        "        {\n",
        "            crear_proceso('B');\n",
        "            exit(0);\n",
        "        }\n",
        "        c = fork();\n",
        "        if (c == 0) \n",
        "        {\n",
        "            crear_proceso('C');\n",
        "            exit(0);\n",
        "        }\n",
        "        d = fork();\n",
        "        if (d == 0) \n",
        "        {\n",
        "            crear_proceso('D');\n",
        "            exit(0);\n",
        "        }\n",
        "        sleep(20);\n",
        "        waitpid(b, NULL, 0);\n",
        "        waitpid(c, NULL, 0);\n",
        "        waitpid(d, NULL, 0);\n",
        "    }\n",
        "    else if (letra == 'B') \n",
        "    {\n",
        "        pid_t e, f;\n",
        "        e = fork();\n",
        "        if (e == 0) \n",
        "        {\n",
        "            crear_proceso('E');\n",
        "            exit(0);\n",
        "        }\n",
        "        f = fork();\n",
        "        if (f == 0) \n",
        "        {\n",
        "            crear_proceso('F');\n",
        "            exit(0);\n",
        "        }\n",
        "        sleep(20);\n",
        "        waitpid(e, NULL, 0);\n",
        "        waitpid(f, NULL, 0);\n",
        "    }\n",
        "    else if (letra == 'D') \n",
        "    {\n",
        "        pid_t g;\n",
        "        g = fork();\n",
        "        if (g == 0) \n",
        "        {\n",
        "            crear_proceso('G');\n",
        "            exit(0);\n",
        "        }\n",
        "        sleep(20);\n",
        "        waitpid(g, NULL, 0);\n",
        "    }\n",
        "      sleep(20);\n",
        "}\n",
        "\n",
        "int main() \n",
        "{\n",
        "    pid_t proceso_a;\n",
        "    proceso_a = fork();\n",
        "    if (proceso_a == 0) \n",
        "    {\n",
        "        crear_proceso('A');\n",
        "        exit(0);\n",
        "    }\n",
        "    sleep(20);\n",
        "    waitpid(proceso_a, NULL, 0);\n",
        "    \n",
        "    return 0;\n",
        "\n",
        "}\n",
        "\n"
      ]
    },
    {
      "cell_type": "code",
      "source": [
        "!ls -la"
      ],
      "metadata": {
        "colab": {
          "base_uri": "https://localhost:8080/"
        },
        "id": "H1JKsIoCAGNx",
        "outputId": "3c10bf31-f3c8-45aa-b522-8128e822279e"
      },
      "execution_count": null,
      "outputs": [
        {
          "output_type": "stream",
          "name": "stdout",
          "text": [
            "total 44\n",
            "drwxr-xr-x 1 root root  4096 Apr 14 01:58 .\n",
            "drwxr-xr-x 1 root root  4096 Apr 14 01:54 ..\n",
            "drwxr-xr-x 4 root root  4096 Apr 12 13:33 .config\n",
            "-rwxr-xr-x 1 root root 17744 Apr 14 01:58 fork.bin\n",
            "-rw-r--r-- 1 root root  1604 Apr 14 01:59 fork.cpp\n",
            "-rw-r--r-- 1 root root   245 Apr 14 01:58 salidaC\n",
            "drwxr-xr-x 1 root root  4096 Apr 12 13:34 sample_data\n"
          ]
        }
      ]
    },
    {
      "cell_type": "code",
      "source": [
        "!g++ -o fork.bin fork.cpp "
      ],
      "metadata": {
        "id": "rHW2XJFyAMJp"
      },
      "execution_count": null,
      "outputs": []
    },
    {
      "cell_type": "code",
      "source": [
        "!ls -la"
      ],
      "metadata": {
        "colab": {
          "base_uri": "https://localhost:8080/"
        },
        "id": "6kPfRNPlBIDk",
        "outputId": "89f3a837-d6ab-4f9e-add2-26816f48abf1"
      },
      "execution_count": null,
      "outputs": [
        {
          "output_type": "stream",
          "name": "stdout",
          "text": [
            "total 44\n",
            "drwxr-xr-x 1 root root  4096 Apr 14 02:00 .\n",
            "drwxr-xr-x 1 root root  4096 Apr 14 01:54 ..\n",
            "drwxr-xr-x 4 root root  4096 Apr 12 13:33 .config\n",
            "-rwxr-xr-x 1 root root 17744 Apr 14 02:00 fork.bin\n",
            "-rw-r--r-- 1 root root  1604 Apr 14 01:59 fork.cpp\n",
            "-rw-r--r-- 1 root root   245 Apr 14 01:58 salidaC\n",
            "drwxr-xr-x 1 root root  4096 Apr 12 13:34 sample_data\n"
          ]
        }
      ]
    },
    {
      "cell_type": "code",
      "source": [
        "!nohup ./fork.bin 1>salidaC 2>/dev/null & "
      ],
      "metadata": {
        "id": "65u1x3hZBN1Y"
      },
      "execution_count": null,
      "outputs": []
    },
    {
      "cell_type": "code",
      "source": [
        "!ps -ef | grep fork.bin"
      ],
      "metadata": {
        "colab": {
          "base_uri": "https://localhost:8080/"
        },
        "id": "8JER7_9SBRpM",
        "outputId": "a62def21-986b-4666-9a46-596f77ef2899"
      },
      "execution_count": null,
      "outputs": [
        {
          "output_type": "stream",
          "name": "stdout",
          "text": [
            "root        1599       1  0 02:00 ?        00:00:00 ./fork.bin\n",
            "root        1600    1599  0 02:00 ?        00:00:00 ./fork.bin\n",
            "root        1601    1600  0 02:00 ?        00:00:00 ./fork.bin\n",
            "root        1602    1600  0 02:00 ?        00:00:00 ./fork.bin\n",
            "root        1603    1600  0 02:00 ?        00:00:00 ./fork.bin\n",
            "root        1604    1601  0 02:00 ?        00:00:00 ./fork.bin\n",
            "root        1605    1603  0 02:00 ?        00:00:00 ./fork.bin\n",
            "root        1606    1601  0 02:00 ?        00:00:00 ./fork.bin\n",
            "root        1621     247  0 02:00 ?        00:00:00 /bin/bash -c ps -ef | grep fork.bin\n",
            "root        1623    1621  0 02:00 ?        00:00:00 grep fork.bin\n"
          ]
        }
      ]
    },
    {
      "cell_type": "code",
      "source": [
        "!pstree -p 1599                                                                                                                                                                                                                                                                                                    "
      ],
      "metadata": {
        "id": "f3plkrrACq_q",
        "colab": {
          "base_uri": "https://localhost:8080/"
        },
        "outputId": "d8410a27-a970-48ea-81c1-4709002ce67c"
      },
      "execution_count": null,
      "outputs": [
        {
          "output_type": "stream",
          "name": "stdout",
          "text": [
            "fork.bin(1599)───fork.bin(1600)─┬─fork.bin(1601)─┬─fork.bin(1604)\n",
            "                                │                └─fork.bin(1606)\n",
            "                                ├─fork.bin(1602)\n",
            "                                └─fork.bin(1603)───fork.bin(1605)\n"
          ]
        }
      ]
    },
    {
      "cell_type": "markdown",
      "source": [
        "# **Arbol de procesos Phyton**"
      ],
      "metadata": {
        "id": "tuVaA7J3ajrm"
      }
    },
    {
      "cell_type": "code",
      "source": [
        "%%writefile fork.py\n",
        "import multiprocessing\n",
        "import os\n",
        "import time\n",
        "\n",
        "def crear_proceso(letra):\n",
        "    pid = os.getpid()\n",
        "    ppid = os.getppid()\n",
        "    print(f\"Proceso {letra} con PID {pid} y PPID {ppid}\")\n",
        "\n",
        "    if letra == \"A\":\n",
        "        b = multiprocessing.Process(target=crear_proceso, args=(\"B\",))\n",
        "        c = multiprocessing.Process(target=crear_proceso, args=(\"C\",))\n",
        "        d = multiprocessing.Process(target=crear_proceso, args=(\"D\",))\n",
        "        b.start()\n",
        "        c.start()\n",
        "        d.start()\n",
        "        time.sleep(15)\n",
        "        b.join()\n",
        "        c.join()\n",
        "        d.join()\n",
        "    elif letra == \"B\":\n",
        "        e = multiprocessing.Process(target=crear_proceso, args=(\"E\",))\n",
        "        f = multiprocessing.Process(target=crear_proceso, args=(\"F\",))\n",
        "        e.start()\n",
        "        f.start()\n",
        "        time.sleep(15)\n",
        "        e.join()\n",
        "        f.join()\n",
        "    elif letra == \"D\":\n",
        "        g = multiprocessing.Process(target=crear_proceso, args=(\"G\",))\n",
        "        g.start()\n",
        "        time.sleep(15)\n",
        "        g.join()\n",
        "\n",
        "if __name__ == '__main__':\n",
        "    proceso_a = multiprocessing.Process(target=crear_proceso, args=(\"A\",))\n",
        "    proceso_a.start()\n",
        "    proceso_a.join()\n",
        "    time.sleep(15)"
      ],
      "metadata": {
        "colab": {
          "base_uri": "https://localhost:8080/"
        },
        "id": "xiXcUdigE12p",
        "outputId": "3ffd11d6-5d3f-4688-e62f-e05e0a6e136a"
      },
      "execution_count": null,
      "outputs": [
        {
          "output_type": "stream",
          "name": "stdout",
          "text": [
            "Writing fork.py\n"
          ]
        }
      ]
    },
    {
      "cell_type": "code",
      "source": [
        "!nohup python fork.py 1>salidaPython 2>/dev/null &"
      ],
      "metadata": {
        "id": "NA3adPMVFGME"
      },
      "execution_count": null,
      "outputs": []
    },
    {
      "cell_type": "code",
      "source": [
        "!ps -ef | grep fork.py"
      ],
      "metadata": {
        "colab": {
          "base_uri": "https://localhost:8080/"
        },
        "id": "e-duFWDTFHqe",
        "outputId": "728ad493-db30-412e-9105-4029d63de9f9"
      },
      "execution_count": null,
      "outputs": [
        {
          "output_type": "stream",
          "name": "stdout",
          "text": [
            "root        2587       1  4 02:03 ?        00:00:00 python3 fork.py\n",
            "root        2591    2587  0 02:03 ?        00:00:00 python3 fork.py\n",
            "root        2592    2591  0 02:03 ?        00:00:00 python3 fork.py\n",
            "root        2594    2591  0 02:03 ?        00:00:00 python3 fork.py\n",
            "root        2608     247  0 02:03 ?        00:00:00 /bin/bash -c ps -ef | grep fork.py\n",
            "root        2610    2608  0 02:03 ?        00:00:00 grep fork.py\n"
          ]
        }
      ]
    },
    {
      "cell_type": "code",
      "source": [
        "!pstree -pc 2587                           "
      ],
      "metadata": {
        "id": "XwCDPpdgFJC5",
        "colab": {
          "base_uri": "https://localhost:8080/"
        },
        "outputId": "070af5c6-e7a5-4926-ae0e-62fc590c1e3a"
      },
      "execution_count": null,
      "outputs": [
        {
          "output_type": "stream",
          "name": "stdout",
          "text": [
            "python3(2587)───python3(2591)─┬─python3(2592)─┬─python3(2598)\n",
            "                              │               └─python3(2599)\n",
            "                              ├─python3(2593)\n",
            "                              └─python3(2594)───python3(2595)\n"
          ]
        }
      ]
    },
    {
      "cell_type": "markdown",
      "source": [
        "# **Arbol de procesos Java**"
      ],
      "metadata": {
        "id": "cgS5tnMYasny"
      }
    },
    {
      "cell_type": "code",
      "source": [
        "%%writefile ProcessHandler.java\n",
        "import java.io.File;\n",
        "import java.io.IOException;\n",
        "import java.lang.ProcessBuilder.Redirect;\n",
        "\n",
        "public class ProcessHandler \n",
        "{\n",
        "\n",
        "    public static void main(String[] args) \n",
        "    {\n",
        "      System.out.println(\"Proceso A con PID \" + ProcessHandle.current().pid() + \" y PPID \" + ProcessHandle.current().parent().get().pid());\n",
        "\n",
        "        String javaHome = System.getProperty(\"java.home\");\n",
        "        String javaBin = javaHome + File.separator + \"bin\" + File.separator + \"java\";\n",
        "        ProcessBuilder builderD = new ProcessBuilder(javaBin, \"ProcesoD\");\n",
        "        ProcessBuilder builderB = new ProcessBuilder(javaBin, \"ProcesoB\");\n",
        "        ProcessBuilder builderC = new ProcessBuilder(javaBin, \"ProcesoC\");\n",
        "\n",
        "        try \n",
        "        {\n",
        "            \n",
        "            Process processB = builderB.start();\n",
        "            Process processC = builderC.start();\n",
        "            Process processD = builderD.start();\n",
        "            Thread.sleep(5000);\n",
        "        } catch (IOException e) \n",
        "        {\n",
        "            e.printStackTrace();\n",
        "        } catch (InterruptedException e) \n",
        "        {\n",
        "            e.printStackTrace();\n",
        "        }\n",
        "\n",
        "    }\n",
        "}\n",
        "\n",
        "class ProcesoB \n",
        "{\n",
        "\n",
        "  public static void main(String[] args) \n",
        "  {\n",
        "    String javaHome = System.getProperty(\"java.home\");\n",
        "    String javaBin = javaHome + File.separator + \"bin\" + File.separator + \"java\";\n",
        "    System.out.println(\"Proceso B con PID \" + ProcessHandle.current().pid() + \" y PPID \" + ProcessHandle.current().parent().get().pid());\n",
        "    ProcessBuilder builderE = new ProcessBuilder(javaBin, \"ProcesoSleep\");\n",
        "    ProcessBuilder builderF = new ProcessBuilder(javaBin, \"ProcesoSleep\");\n",
        "\n",
        "    try \n",
        "    {\n",
        "       Process processE = builderE.start();\n",
        "       Process processF = builderF.start();\n",
        "       Thread.sleep(5000);\n",
        "    } catch (InterruptedException e) \n",
        "    {\n",
        "        e.printStackTrace();\n",
        "    } catch (IOException e) \n",
        "    {\n",
        "        e.printStackTrace();\n",
        "    }\n",
        "}\n",
        "}\n",
        "\n",
        "class ProcesoC \n",
        "{\n",
        "\n",
        "  public static void main(String[] args) \n",
        "  {\n",
        "    try \n",
        "    {\n",
        "      System.out.println(\"Proceso C con PID \" + ProcessHandle.current().pid() + \" y PPID \" + ProcessHandle.current().parent().get().pid());\n",
        "      Thread.sleep(5000);\n",
        "    } catch (InterruptedException e) \n",
        "    {\n",
        "        e.printStackTrace();\n",
        "    }\n",
        "    }\n",
        "}\n",
        "\n",
        "\n",
        "class ProcesoD \n",
        "{\n",
        "\n",
        "  public static void main(String[] args) \n",
        "  {\n",
        "    String javaHome = System.getProperty(\"java.home\");\n",
        "    String javaBin = javaHome + File.separator + \"bin\" + File.separator + \"java\";\n",
        "    System.out.println(\"Proceso D con PID \" + ProcessHandle.current().pid() + \" y PPID \" + ProcessHandle.current().parent().get().pid());\n",
        "    ProcessBuilder builderG = new ProcessBuilder(javaBin, \"ProcesoSleep\");\n",
        "    \n",
        "    try \n",
        "    {\n",
        "        Process processG = builderG.start();\n",
        "        Thread.sleep(5000);\n",
        "    } catch (InterruptedException e) \n",
        "    {\n",
        "        e.printStackTrace();\n",
        "    } catch (IOException e) \n",
        "    {\n",
        "        e.printStackTrace();\n",
        "    }\n",
        "}\n",
        "}\n",
        "\n",
        "class ProcesoSleep \n",
        "{\n",
        "\n",
        "  public static void main(String[] args) \n",
        "  {\n",
        "    try \n",
        "    {\n",
        "      System.out.println(\"Proceso con PID \" + ProcessHandle.current().pid() + \" y PPID \" + ProcessHandle.current().parent().get().pid());\n",
        "      Thread.sleep(5000);\n",
        "    } catch (InterruptedException e) \n",
        "    {\n",
        "        e.printStackTrace();\n",
        "    }\n",
        "    }\n",
        "}"
      ],
      "metadata": {
        "colab": {
          "base_uri": "https://localhost:8080/"
        },
        "id": "nbN6hoTGFlIi",
        "outputId": "a019325b-0ecb-4ba6-f93f-1528bcdb2f93"
      },
      "execution_count": 6,
      "outputs": [
        {
          "output_type": "stream",
          "name": "stdout",
          "text": [
            "Overwriting ProcessHandler.java\n"
          ]
        }
      ]
    },
    {
      "cell_type": "code",
      "source": [
        "!javac ProcessHandler.java"
      ],
      "metadata": {
        "id": "tW7ft9ZqfFXe"
      },
      "execution_count": 7,
      "outputs": []
    },
    {
      "cell_type": "code",
      "source": [
        "!nohup java ProcessHandler 1>salidaJava 2>/dev/null & "
      ],
      "metadata": {
        "id": "05LKzbSrgLLZ"
      },
      "execution_count": 8,
      "outputs": []
    },
    {
      "cell_type": "code",
      "source": [
        "!pstree -pT"
      ],
      "metadata": {
        "colab": {
          "base_uri": "https://localhost:8080/"
        },
        "id": "qK6L32Q3gUFw",
        "outputId": "2f3db8f7-7c66-4e35-8f4d-61c31b58e9fb"
      },
      "execution_count": 9,
      "outputs": [
        {
          "output_type": "stream",
          "name": "stdout",
          "text": [
            "docker-init(1)─┬─java(670)─┬─java(687)─┬─java(753)\n",
            "               │           │           └─java(758)\n",
            "               │           ├─java(690)\n",
            "               │           └─java(692)───java(741)\n",
            "               ├─node(7)─┬─colab-fileshim.(61)\n",
            "               │         ├─dap_multiplexer(79)\n",
            "               │         ├─jupyter-noteboo(78)───python3(140)───pstree(799)\n",
            "               │         ├─node(217)\n",
            "               │         ├─oom_monitor.sh(30)───sleep(750)\n",
            "               │         └─python3(60)\n",
            "               ├─python3(182)\n",
            "               └─run.sh(32)───kernel_manager_(33)\n"
          ]
        }
      ]
    }
  ]
}