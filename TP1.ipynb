{
  "nbformat": 4,
  "nbformat_minor": 0,
  "metadata": {
    "colab": {
      "provenance": [],
      "include_colab_link": true
    },
    "kernelspec": {
      "name": "python3",
      "display_name": "Python 3"
    },
    "language_info": {
      "name": "python"
    }
  },
  "cells": [
    {
      "cell_type": "markdown",
      "metadata": {
        "id": "view-in-github",
        "colab_type": "text"
      },
      "source": [
        "<a href=\"https://colab.research.google.com/github/FedericoFortuna/ProgramacionConcurrente/blob/main/TP1.ipynb\" target=\"_parent\"><img src=\"https://colab.research.google.com/assets/colab-badge.svg\" alt=\"Open In Colab\"/></a>"
      ]
    },
    {
      "cell_type": "markdown",
      "source": [
        "# **Arbol de procesos C++**"
      ],
      "metadata": {
        "id": "zzVNzvC5aM_I"
      }
    },
    {
      "cell_type": "code",
      "execution_count": 118,
      "metadata": {
        "colab": {
          "base_uri": "https://localhost:8080/"
        },
        "id": "ztdR6E3Z_SH8",
        "outputId": "cb8e5852-fbae-4d13-9245-760ecae97e6e"
      },
      "outputs": [
        {
          "output_type": "stream",
          "name": "stdout",
          "text": [
            "Writing fork.cpp\n"
          ]
        }
      ],
      "source": [
        "%%writefile fork.cpp\n",
        "#include <iostream>\n",
        "#include <unistd.h>\n",
        "#include <sys/types.h>\n",
        "#include <sys/wait.h>\n",
        "\n",
        "using namespace std;\n",
        "\n",
        "void crear_proceso(char letra) {\n",
        "    pid_t pid = getpid();\n",
        "    pid_t ppid = getppid();\n",
        "    cout << \"Proceso \" << letra << \" con PID \" << pid << \" y PPID \" << ppid << endl;\n",
        "\n",
        "    if (letra == 'A') {\n",
        "        pid_t b, c, d;\n",
        "        b = fork();\n",
        "        if (b == 0) {\n",
        "            crear_proceso('B');\n",
        "            exit(0);\n",
        "        }\n",
        "        c = fork();\n",
        "        if (c == 0) {\n",
        "            crear_proceso('C');\n",
        "            exit(0);\n",
        "        }\n",
        "        d = fork();\n",
        "        if (d == 0) {\n",
        "            crear_proceso('D');\n",
        "            exit(0);\n",
        "        }\n",
        "        sleep(50);\n",
        "        waitpid(b, NULL, 0);\n",
        "        waitpid(c, NULL, 0);\n",
        "        waitpid(d, NULL, 0);\n",
        "    }\n",
        "    else if (letra == 'B') {\n",
        "        pid_t e, f;\n",
        "        e = fork();\n",
        "        if (e == 0) {\n",
        "            crear_proceso('E');\n",
        "            exit(0);\n",
        "        }\n",
        "        f = fork();\n",
        "        if (f == 0) {\n",
        "            crear_proceso('F');\n",
        "            exit(0);\n",
        "        }\n",
        "        sleep(50);\n",
        "        waitpid(e, NULL, 0);\n",
        "        waitpid(f, NULL, 0);\n",
        "    }\n",
        "    else if (letra == 'D') {\n",
        "        pid_t g;\n",
        "        g = fork();\n",
        "        if (g == 0) {\n",
        "            crear_proceso('G');\n",
        "            exit(0);\n",
        "        }\n",
        "        sleep(50);\n",
        "        waitpid(g, NULL, 0);\n",
        "    }\n",
        "}\n",
        "\n",
        "int main() {\n",
        "    pid_t proceso_a;\n",
        "    proceso_a = fork();\n",
        "    if (proceso_a == 0) {\n",
        "        crear_proceso('A');\n",
        "        exit(0);\n",
        "    }\n",
        "    sleep(50);\n",
        "    waitpid(proceso_a, NULL, 0);\n",
        "    \n",
        "    return 0;\n",
        "}"
      ]
    },
    {
      "cell_type": "code",
      "source": [
        "!ls -la"
      ],
      "metadata": {
        "colab": {
          "base_uri": "https://localhost:8080/"
        },
        "id": "H1JKsIoCAGNx",
        "outputId": "5e8d58c4-d723-4df2-af68-6454556cc8dc"
      },
      "execution_count": 119,
      "outputs": [
        {
          "output_type": "stream",
          "name": "stdout",
          "text": [
            "total 36\n",
            "drwxr-xr-x 1 root root 4096 Apr 12 02:56 .\n",
            "drwxr-xr-x 1 root root 4096 Apr 12 02:27 ..\n",
            "drwxr-xr-x 4 root root 4096 Apr 10 13:30 .config\n",
            "-rw-r--r-- 1 root root 4065 Apr 12 02:53 crear_proceso.java\n",
            "-rw-r--r-- 1 root root 1509 Apr 12 02:56 fork.cpp\n",
            "-rwx------ 1 root root 1114 Apr 12 02:55 fork.py\n",
            "-rw-r--r-- 1 root root   46 Apr 12 02:54 salidaJava\n",
            "-rw-r--r-- 1 root root  245 Apr 12 02:55 salidaPython\n",
            "drwxr-xr-x 1 root root 4096 Apr 10 13:31 sample_data\n"
          ]
        }
      ]
    },
    {
      "cell_type": "code",
      "source": [
        "!g++ -o fork.bin fork.cpp "
      ],
      "metadata": {
        "id": "rHW2XJFyAMJp"
      },
      "execution_count": 120,
      "outputs": []
    },
    {
      "cell_type": "code",
      "source": [
        "!ls -la"
      ],
      "metadata": {
        "colab": {
          "base_uri": "https://localhost:8080/"
        },
        "id": "6kPfRNPlBIDk",
        "outputId": "8d8f6156-a2ed-409d-ad9e-ad54b9f8cc2b"
      },
      "execution_count": 121,
      "outputs": [
        {
          "output_type": "stream",
          "name": "stdout",
          "text": [
            "total 56\n",
            "drwxr-xr-x 1 root root  4096 Apr 12 02:56 .\n",
            "drwxr-xr-x 1 root root  4096 Apr 12 02:27 ..\n",
            "drwxr-xr-x 4 root root  4096 Apr 10 13:30 .config\n",
            "-rw-r--r-- 1 root root  4065 Apr 12 02:53 crear_proceso.java\n",
            "-rwxr-xr-x 1 root root 17744 Apr 12 02:56 fork.bin\n",
            "-rw-r--r-- 1 root root  1509 Apr 12 02:56 fork.cpp\n",
            "-rwx------ 1 root root  1114 Apr 12 02:55 fork.py\n",
            "-rw-r--r-- 1 root root    46 Apr 12 02:54 salidaJava\n",
            "-rw-r--r-- 1 root root   245 Apr 12 02:55 salidaPython\n",
            "drwxr-xr-x 1 root root  4096 Apr 10 13:31 sample_data\n"
          ]
        }
      ]
    },
    {
      "cell_type": "code",
      "source": [
        "!nohup ./fork.bin 1>salidaC 2>/dev/null & "
      ],
      "metadata": {
        "id": "65u1x3hZBN1Y"
      },
      "execution_count": 122,
      "outputs": []
    },
    {
      "cell_type": "code",
      "source": [
        "!ps -ef | grep fork.bin"
      ],
      "metadata": {
        "colab": {
          "base_uri": "https://localhost:8080/"
        },
        "id": "8JER7_9SBRpM",
        "outputId": "bd1aa8d2-6ad5-4b21-c220-8847ad805e82"
      },
      "execution_count": 123,
      "outputs": [
        {
          "output_type": "stream",
          "name": "stdout",
          "text": [
            "root        9020       1  0 02:56 ?        00:00:00 ./fork.bin\n",
            "root        9021    9020  0 02:56 ?        00:00:00 ./fork.bin\n",
            "root        9022    9021  0 02:56 ?        00:00:00 ./fork.bin\n",
            "root        9023    9021  0 02:56 ?        00:00:00 [fork.bin] <defunct>\n",
            "root        9024    9021  0 02:56 ?        00:00:00 ./fork.bin\n",
            "root        9025    9022  0 02:56 ?        00:00:00 [fork.bin] <defunct>\n",
            "root        9026    9022  0 02:56 ?        00:00:00 [fork.bin] <defunct>\n",
            "root        9027    9024  0 02:56 ?        00:00:00 [fork.bin] <defunct>\n",
            "root        9036     231  0 02:56 ?        00:00:00 /bin/bash -c ps -ef | grep fork.bin\n",
            "root        9038    9036  0 02:56 ?        00:00:00 grep fork.bin\n"
          ]
        }
      ]
    },
    {
      "cell_type": "code",
      "source": [
        "!pstree 9020       "
      ],
      "metadata": {
        "colab": {
          "base_uri": "https://localhost:8080/"
        },
        "id": "f3plkrrACq_q",
        "outputId": "af6956d6-faa6-4e1d-96f0-f4a3dca5f4f0"
      },
      "execution_count": 124,
      "outputs": [
        {
          "output_type": "stream",
          "name": "stdout",
          "text": [
            "fork.bin───fork.bin─┬─fork.bin───2*[fork.bin]\n",
            "                    ├─fork.bin\n",
            "                    └─fork.bin───fork.bin\n"
          ]
        }
      ]
    },
    {
      "cell_type": "markdown",
      "source": [
        "# **Arbol de procesos Phyton**"
      ],
      "metadata": {
        "id": "tuVaA7J3ajrm"
      }
    },
    {
      "cell_type": "code",
      "source": [
        "%%writefile fork.py\n",
        "import multiprocessing\n",
        "import os\n",
        "import time\n",
        "\n",
        "def crear_proceso(letra):\n",
        "    pid = os.getpid()\n",
        "    ppid = os.getppid()\n",
        "    print(f\"Proceso {letra} con PID {pid} y PPID {ppid}\")\n",
        "\n",
        "    if letra == \"A\":\n",
        "        b = multiprocessing.Process(target=crear_proceso, args=(\"B\",))\n",
        "        c = multiprocessing.Process(target=crear_proceso, args=(\"C\",))\n",
        "        d = multiprocessing.Process(target=crear_proceso, args=(\"D\",))\n",
        "        b.start()\n",
        "        c.start()\n",
        "        d.start()\n",
        "        time.sleep(15)\n",
        "        b.join()\n",
        "        c.join()\n",
        "        d.join()\n",
        "    elif letra == \"B\":\n",
        "        e = multiprocessing.Process(target=crear_proceso, args=(\"E\",))\n",
        "        f = multiprocessing.Process(target=crear_proceso, args=(\"F\",))\n",
        "        e.start()\n",
        "        f.start()\n",
        "        time.sleep(15)\n",
        "        e.join()\n",
        "        f.join()\n",
        "    elif letra == \"D\":\n",
        "        g = multiprocessing.Process(target=crear_proceso, args=(\"G\",))\n",
        "        g.start()\n",
        "        time.sleep(15)\n",
        "        g.join()\n",
        "\n",
        "if __name__ == '__main__':\n",
        "    proceso_a = multiprocessing.Process(target=crear_proceso, args=(\"A\",))\n",
        "    proceso_a.start()\n",
        "    proceso_a.join()\n",
        "    time.sleep(15)"
      ],
      "metadata": {
        "colab": {
          "base_uri": "https://localhost:8080/"
        },
        "id": "xiXcUdigE12p",
        "outputId": "a8e71fee-17b0-4ae2-b9bc-025fe08dc1d2"
      },
      "execution_count": 109,
      "outputs": [
        {
          "output_type": "stream",
          "name": "stdout",
          "text": [
            "Writing fork.py\n"
          ]
        }
      ]
    },
    {
      "cell_type": "code",
      "source": [
        "!chmod 700 ./fork.py"
      ],
      "metadata": {
        "id": "nfL_rsRKFEFx"
      },
      "execution_count": 110,
      "outputs": []
    },
    {
      "cell_type": "code",
      "source": [
        "!nohup python fork.py 1>salidaPython 2>/dev/null &"
      ],
      "metadata": {
        "id": "NA3adPMVFGME"
      },
      "execution_count": 111,
      "outputs": []
    },
    {
      "cell_type": "code",
      "source": [
        "!ps -ef | grep fork.py"
      ],
      "metadata": {
        "colab": {
          "base_uri": "https://localhost:8080/"
        },
        "id": "e-duFWDTFHqe",
        "outputId": "3ea53a53-b20e-4730-c238-312aa7bee663"
      },
      "execution_count": 112,
      "outputs": [
        {
          "output_type": "stream",
          "name": "stdout",
          "text": [
            "root        8731       1  1 02:55 ?        00:00:00 python3 fork.py\n",
            "root        8733    8731  0 02:55 ?        00:00:00 python3 fork.py\n",
            "root        8734    8733  0 02:55 ?        00:00:00 python3 fork.py\n",
            "root        8737    8733  0 02:55 ?        00:00:00 python3 fork.py\n",
            "root        8756     231  0 02:55 ?        00:00:00 /bin/bash -c ps -ef | grep fork.py\n",
            "root        8758    8756  0 02:55 ?        00:00:00 grep fork.py\n"
          ]
        }
      ]
    },
    {
      "cell_type": "code",
      "source": [
        "!pstree -pc 8731             "
      ],
      "metadata": {
        "id": "XwCDPpdgFJC5",
        "colab": {
          "base_uri": "https://localhost:8080/"
        },
        "outputId": "c6145bbb-6b44-48c3-dc55-791e2aadafd3"
      },
      "execution_count": 114,
      "outputs": [
        {
          "output_type": "stream",
          "name": "stdout",
          "text": [
            "python3(8731)───python3(8733)─┬─python3(8734)─┬─python3(8736)\n",
            "                              │               └─python3(8738)\n",
            "                              ├─python3(8735)\n",
            "                              └─python3(8737)───python3(8739)\n"
          ]
        }
      ]
    },
    {
      "cell_type": "markdown",
      "source": [
        "# **Arbol de procesos Java**"
      ],
      "metadata": {
        "id": "cgS5tnMYasny"
      }
    },
    {
      "cell_type": "code",
      "source": [
        "%%writefile crear_proceso.java\n",
        "import java.io.File;\n",
        "import java.io.IOException;\n",
        "import java.lang.ProcessBuilder.Redirect;\n",
        "\n",
        "public class Main {\n",
        "\n",
        "    public static void main(String[] args) {\n",
        "      System.out.println(\"Proceso A con PID \" + ProcessHandle.current().pid() + \" y PPID \" + ProcessHandle.current().parent().get().pid());\n",
        "        //System.out.println(\"Proceso padre con PID \" + pid());\n",
        "  \n",
        "        \n",
        "        String javaHome = System.getProperty(\"java.home\");\n",
        "        String javaBin = javaHome + File.separator + \"bin\" + File.separator + \"java\";\n",
        "        ProcessBuilder builderD = new ProcessBuilder(javaBin, \"ProcesoD\");\n",
        "        ProcessBuilder builderB = new ProcessBuilder(javaBin, \"ProcesoB\");\n",
        "        ProcessBuilder builderC = new ProcessBuilder(javaBin, \"ProcesoC\");\n",
        "\n",
        "        // Redirect subprocess's input stream to this parent process's input stream.\n",
        "        builderD.redirectInput(Redirect.INHERIT);\n",
        "        builderB.redirectInput(Redirect.INHERIT);\n",
        "        builderC.redirectInput(Redirect.INHERIT);\n",
        "        // This is just for see the output of child process much more easily.\n",
        "        builderD.redirectOutput(Redirect.INHERIT);\n",
        "        builderB.redirectOutput(Redirect.INHERIT);\n",
        "        builderC.redirectOutput(Redirect.INHERIT);\n",
        "        try {\n",
        "            Process processD = builderD.start();\n",
        "            Process processB = builderB.start();\n",
        "            Process processC = builderC.start();\n",
        "            Thread.sleep(50000);\n",
        "        } catch (IOException e) {\n",
        "            e.printStackTrace();\n",
        "        } catch (InterruptedException e) {\n",
        "            e.printStackTrace();\n",
        "        }\n",
        "        System.out.println(\"Parent exits.\");\n",
        "    }\n",
        "}\n",
        "\n",
        "class ProcesoB {\n",
        "\n",
        "  public static void main(String[] args) {\n",
        "    String javaHome = System.getProperty(\"java.home\");\n",
        "        String javaBin = javaHome + File.separator + \"bin\" + File.separator + \"java\";\n",
        "    System.out.println(\"Proceso B con PID \" + ProcessHandle.current().pid() + \" y PPID \" + ProcessHandle.current().parent().get().pid());\n",
        "    ProcessBuilder builderE = new ProcessBuilder(javaBin, \"ProcesoSleep\");\n",
        "    ProcessBuilder builderF = new ProcessBuilder(javaBin, \"ProcesoSleep\");\n",
        "    builderE.redirectInput(Redirect.INHERIT);\n",
        "    builderF.redirectInput(Redirect.INHERIT);\n",
        "    builderE.redirectOutput(Redirect.INHERIT);\n",
        "    builderF.redirectOutput(Redirect.INHERIT);\n",
        "    \n",
        "    \n",
        "    try {\n",
        "            Process processE = builderE.start();\n",
        "            Process processF = builderF.start();\n",
        "            Thread.sleep(20000);\n",
        "        \n",
        "        } catch (InterruptedException e) {\n",
        "            e.printStackTrace();\n",
        "        } catch (IOException e) {\n",
        "            e.printStackTrace();\n",
        "    }\n",
        "}\n",
        "}\n",
        "class ProcesoC {\n",
        "\n",
        "  public static void main(String[] args) {\n",
        "    try {\n",
        "    System.out.println(\"Proceso C con PID \" + ProcessHandle.current().pid() + \" y PPID \" + ProcessHandle.current().parent().get().pid());\n",
        "            Thread.sleep(20000);\n",
        "        \n",
        "        } catch (InterruptedException e) {\n",
        "            e.printStackTrace();\n",
        "        }\n",
        "    }\n",
        "}\n",
        "\n",
        "\n",
        "class ProcesoD {\n",
        "\n",
        "  public static void main(String[] args) {\n",
        "    String javaHome = System.getProperty(\"java.home\");\n",
        "        String javaBin = javaHome + File.separator + \"bin\" + File.separator + \"java\";\n",
        "    System.out.println(\"Proceso D con PID \" + ProcessHandle.current().pid() + \" y PPID \" + ProcessHandle.current().parent().get().pid());\n",
        "    ProcessBuilder builderG = new ProcessBuilder(javaBin, \"ProcesoSleep\");\n",
        "    \n",
        "    builderG.redirectInput(Redirect.INHERIT);\n",
        "    builderG.redirectOutput(Redirect.INHERIT);\n",
        "    \n",
        "    \n",
        "    try {\n",
        "            Process processG = builderG.start();\n",
        "            Thread.sleep(20000);\n",
        "        \n",
        "        } catch (InterruptedException e) {\n",
        "            e.printStackTrace();\n",
        "        } catch (IOException e) {\n",
        "            e.printStackTrace();\n",
        "    }\n",
        "}\n",
        "}\n",
        "\n",
        "class ProcesoSleep {\n",
        "\n",
        "  public static void main(String[] args) {\n",
        "    try {\n",
        "    System.out.println(\"Proceso con PID \" + ProcessHandle.current().pid() + \" y PPID \" + ProcessHandle.current().parent().get().pid());\n",
        "            Thread.sleep(20000);\n",
        "        \n",
        "        } catch (InterruptedException e) {\n",
        "            e.printStackTrace();\n",
        "        }\n",
        "    }\n",
        "}"
      ],
      "metadata": {
        "colab": {
          "base_uri": "https://localhost:8080/"
        },
        "id": "nbN6hoTGFlIi",
        "outputId": "537587b2-9608-4188-9ecc-ca16e8d41f42"
      },
      "execution_count": 128,
      "outputs": [
        {
          "output_type": "stream",
          "name": "stdout",
          "text": [
            "Overwriting crear_proceso.java\n"
          ]
        }
      ]
    },
    {
      "cell_type": "code",
      "source": [
        "!nohup java crear_proceso.java 1>salidaJava 2>/dev/null & "
      ],
      "metadata": {
        "id": "RdqYCHokHnqn"
      },
      "execution_count": 129,
      "outputs": []
    },
    {
      "cell_type": "code",
      "source": [
        "!ps -ef | grep crear_proceso.java"
      ],
      "metadata": {
        "colab": {
          "base_uri": "https://localhost:8080/"
        },
        "id": "i6g_PO25HqcL",
        "outputId": "9ca2efcf-3e2b-4fdc-807f-0feccf8b8152"
      },
      "execution_count": 130,
      "outputs": [
        {
          "output_type": "stream",
          "name": "stdout",
          "text": [
            "root        9805       1 99 02:59 ?        00:00:02 java crear_proceso.java\n",
            "root        9832     231  0 02:59 ?        00:00:00 /bin/bash -c ps -ef | grep crear_proceso.java\n",
            "root        9834    9832  0 02:59 ?        00:00:00 grep crear_proceso.java\n"
          ]
        }
      ]
    },
    {
      "cell_type": "code",
      "source": [
        "!pstree -pT                                                                    "
      ],
      "metadata": {
        "id": "LvExnhCCHtVx",
        "colab": {
          "base_uri": "https://localhost:8080/"
        },
        "outputId": "024762f5-4797-47b6-d339-434076eeafba"
      },
      "execution_count": 132,
      "outputs": [
        {
          "output_type": "stream",
          "name": "stdout",
          "text": [
            "docker-init(1)─┬─node(6)─┬─colab-fileshim.(60)\n",
            "               │         ├─dap_multiplexer(82)\n",
            "               │         ├─jupyter-noteboo(81)───python3(231)───pstree(10882)\n",
            "               │         ├─node(288)\n",
            "               │         ├─oom_monitor.sh(29)───sleep(10881)\n",
            "               │         └─python3(59)\n",
            "               ├─python3(258)\n",
            "               └─run.sh(31)───kernel_manager_(33)\n"
          ]
        }
      ]
    }
  ]
}