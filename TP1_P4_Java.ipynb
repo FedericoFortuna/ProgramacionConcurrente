{
  "nbformat": 4,
  "nbformat_minor": 0,
  "metadata": {
    "colab": {
      "provenance": [],
      "include_colab_link": true
    },
    "kernelspec": {
      "name": "python3",
      "display_name": "Python 3"
    },
    "language_info": {
      "name": "python"
    }
  },
  "cells": [
    {
      "cell_type": "markdown",
      "metadata": {
        "id": "view-in-github",
        "colab_type": "text"
      },
      "source": [
        "<a href=\"https://colab.research.google.com/github/FedericoFortuna/ProgramacionConcurrente/blob/main/TP1_P4_Java.ipynb\" target=\"_parent\"><img src=\"https://colab.research.google.com/assets/colab-badge.svg\" alt=\"Open In Colab\"/></a>"
      ]
    },
    {
      "cell_type": "code",
      "execution_count": null,
      "metadata": {
        "id": "FjPZ49KWHdmW",
        "colab": {
          "base_uri": "https://localhost:8080/"
        },
        "outputId": "22d9999b-7a06-4866-809e-6937507ce938"
      },
      "outputs": [
        {
          "output_type": "stream",
          "name": "stdout",
          "text": [
            "Overwriting ProductorConsumidor.java\n"
          ]
        }
      ],
      "source": [
        "%%writefile ProductorConsumidor.java\n",
        "import java.net.*;\n",
        "import java.io.*;\n",
        "\n",
        "public class ProductorConsumidor \n",
        "{\n",
        "    private static int valorCompartido;\n",
        "    private static final int CANTIDAD_VALORES = 10;\n",
        "    private static final Object lock = new Object();\n",
        "    \n",
        "    private static void productor() \n",
        "    {\n",
        "    for (int i = 0; i < CANTIDAD_VALORES; i++) \n",
        "    {\n",
        "        synchronized (lock) \n",
        "        {\n",
        "            while (valorCompartido != -1) \n",
        "            {\n",
        "                try \n",
        "                {\n",
        "                    lock.wait();\n",
        "                } \n",
        "                catch (InterruptedException e) \n",
        "                {\n",
        "                    e.printStackTrace();\n",
        "                }\n",
        "            }\n",
        "            valorCompartido = (int) (Math.random() * 100);\n",
        "            System.out.println(\"Productor produjo: \" + valorCompartido);\n",
        "            lock.notify();\n",
        "        }\n",
        "    }\n",
        "}\n",
        "\n",
        "private static void consumidor() \n",
        "{\n",
        "    for (int i = 0; i < CANTIDAD_VALORES; i++) \n",
        "    {\n",
        "        synchronized (lock) \n",
        "        {\n",
        "            while (valorCompartido == -1) \n",
        "            {\n",
        "                try \n",
        "                {\n",
        "                    lock.wait();\n",
        "                } \n",
        "                catch (InterruptedException e) \n",
        "                {\n",
        "                    e.printStackTrace();\n",
        "                }\n",
        "            }\n",
        "            System.out.println(\"Consumidor consumió: \" + valorCompartido);\n",
        "            valorCompartido = -1;\n",
        "            lock.notify();\n",
        "        }\n",
        "    }\n",
        "}\n",
        "\n",
        "\n",
        "    public static void main(String[] args) \n",
        "    {\n",
        "        Thread productor = new Thread(() -> productor());\n",
        "\n",
        "        Thread consumidor = new Thread(() -> consumidor());\n",
        "\n",
        "        valorCompartido = -1;\n",
        "        productor.start();\n",
        "        consumidor.start();\n",
        "\n",
        "        try \n",
        "        {\n",
        "            productor.join();\n",
        "            consumidor.join();\n",
        "        } \n",
        "        catch (InterruptedException e)\n",
        "        {\n",
        "            e.printStackTrace();\n",
        "        }\n",
        "    }\n",
        "}\n"
      ]
    },
    {
      "cell_type": "code",
      "source": [
        "!javac ProductorConsumidor.java"
      ],
      "metadata": {
        "id": "HH9s2l7FP6WG"
      },
      "execution_count": null,
      "outputs": []
    },
    {
      "cell_type": "code",
      "source": [
        "!java ProductorConsumidor >salidaProductorConsumidor 2>/dev/null & "
      ],
      "metadata": {
        "id": "7LKirKXLQFO_"
      },
      "execution_count": null,
      "outputs": []
    },
    {
      "cell_type": "code",
      "source": [
        "!cat salidaProductorConsumidor"
      ],
      "metadata": {
        "colab": {
          "base_uri": "https://localhost:8080/"
        },
        "id": "FadNkOAyRnq_",
        "outputId": "4056c59b-3397-461f-e2f9-e22b1e443814"
      },
      "execution_count": null,
      "outputs": [
        {
          "output_type": "stream",
          "name": "stdout",
          "text": [
            "Productor produjo: 64\n",
            "Consumidor consumió: 64\n",
            "Productor produjo: 51\n",
            "Consumidor consumió: 51\n",
            "Productor produjo: 32\n",
            "Consumidor consumió: 32\n",
            "Productor produjo: 52\n",
            "Consumidor consumió: 52\n",
            "Productor produjo: 73\n",
            "Consumidor consumió: 73\n",
            "Productor produjo: 8\n",
            "Consumidor consumió: 8\n",
            "Productor produjo: 55\n",
            "Consumidor consumió: 55\n",
            "Productor produjo: 8\n",
            "Consumidor consumió: 8\n",
            "Productor produjo: 85\n",
            "Consumidor consumió: 85\n",
            "Productor produjo: 10\n",
            "Consumidor consumió: 10\n"
          ]
        }
      ]
    }
  ]
}