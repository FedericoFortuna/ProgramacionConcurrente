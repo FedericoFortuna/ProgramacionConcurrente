{
  "nbformat": 4,
  "nbformat_minor": 0,
  "metadata": {
    "colab": {
      "provenance": [],
      "include_colab_link": true
    },
    "kernelspec": {
      "name": "python3",
      "display_name": "Python 3"
    },
    "language_info": {
      "name": "python"
    }
  },
  "cells": [
    {
      "cell_type": "markdown",
      "metadata": {
        "id": "view-in-github",
        "colab_type": "text"
      },
      "source": [
        "<a href=\"https://colab.research.google.com/github/FedericoFortuna/ProgramacionConcurrente/blob/main/TP1_P3_C%2B%2B.ipynb\" target=\"_parent\"><img src=\"https://colab.research.google.com/assets/colab-badge.svg\" alt=\"Open In Colab\"/></a>"
      ]
    },
    {
      "cell_type": "markdown",
      "source": [
        "# **Comunicación de procesos en C++ (FIFO)**\n",
        "\n"
      ],
      "metadata": {
        "id": "_Kf6Zron1NPz"
      }
    },
    {
      "cell_type": "code",
      "execution_count": 338,
      "metadata": {
        "id": "a7o1hLHR02hq",
        "colab": {
          "base_uri": "https://localhost:8080/"
        },
        "outputId": "c0c8c7a1-e15b-47f5-9cdf-2f0071c53a55"
      },
      "outputs": [
        {
          "output_type": "stream",
          "name": "stdout",
          "text": [
            "Overwriting servidor.cpp\n"
          ]
        }
      ],
      "source": [
        "%%writefile servidor.cpp\n",
        "#include <stdio.h>\n",
        "#include <stdlib.h>\n",
        "#include <string.h>\n",
        "#include <fcntl.h>\n",
        "#include <unistd.h>\n",
        "#include <sys/stat.h>\n",
        "\n",
        "#define FIFO_NAME \"/tmp/fifo\"\n",
        "\n",
        "int main() \n",
        "{\n",
        "    int fifo;\n",
        "    int numeros[4] = {0};\n",
        "    float promedio = 0;\n",
        "    int min = 0;\n",
        "    int max = 0;\n",
        "    int suma = 0;\n",
        "    int cantidad = 0;\n",
        "    char buffer[BUFSIZ];\n",
        "\n",
        "    /* Crea la tubería nombrada */\n",
        "    if(mkfifo(FIFO_NAME, 0666) < 0) \n",
        "    {\n",
        "        printf(\"No se pudo abrir la tuberia.\\n\");\n",
        "        perror(\"mkfifo\");\n",
        "        return EXIT_FAILURE;\n",
        "    }\n",
        "\n",
        "    /* Abre la tubería nombrada */\n",
        "    if((fifo = open(FIFO_NAME, O_RDWR)) < 0) \n",
        "    {\n",
        "        perror(\"open\");\n",
        "        return EXIT_FAILURE;\n",
        "    }\n",
        "    \n",
        "    /* Lee la cadena de números desde la tubería nombrada */\n",
        "    if(read(fifo, buffer, BUFSIZ) < 0) \n",
        "    {\n",
        "        printf(\"No se pudo leer la tuberia.\\n\");\n",
        "        perror(\"read\");\n",
        "        return EXIT_FAILURE;\n",
        "    }\n",
        "\n",
        "    /* Convierte la cadena de números a un arreglo de enteros */\n",
        "    sscanf(buffer, \"%d-%d-%d-%d\", &numeros[0], &numeros[1], &numeros[2], &numeros[3]);\n",
        "\n",
        "    /* Calcula el promedio, mínimo, máximo, suma y cantidad de números */\n",
        "    for(int i = 0; i < 4; i++) \n",
        "    {\n",
        "        suma += numeros[i];\n",
        "        cantidad++;\n",
        "        if(i == 0 || numeros[i] < min) \n",
        "        {\n",
        "            min = numeros[i];\n",
        "        }\n",
        "        if(i == 0 || numeros[i] > max) \n",
        "        {\n",
        "            max = numeros[i];\n",
        "        }\n",
        "    }\n",
        "    promedio = (float)suma / cantidad;\n",
        "\n",
        "    /* Convierte los resultados a una cadena y los escribe en la tubería nombrada */\n",
        "    sprintf(buffer, \"%f,%d,%d,%d,%d\", promedio, min, max, suma, cantidad);\n",
        "\n",
        "    if(write(fifo, buffer, strlen(buffer)) < 0) \n",
        "    {\n",
        "        printf(\"No se pudo escribir el resultado.\\n\");\n",
        "        perror(\"write\");\n",
        "        close(fifo);\n",
        "        return EXIT_FAILURE;\n",
        "    }\n",
        "\n",
        "    /* Cierra la tubería nombrada */\n",
        "    close(fifo);\n",
        "\n",
        "    /* Elimina la tubería nombrada */\n",
        "    \n",
        "    if(unlink(FIFO_NAME) < 0) \n",
        "    {\n",
        "        perror(\"unlink\");\n",
        "        return EXIT_FAILURE;\n",
        "    }\n",
        "\n",
        "    return EXIT_SUCCESS;\n",
        "}\n",
        "\n"
      ]
    },
    {
      "cell_type": "code",
      "source": [
        "%%writefile cliente.cpp\n",
        "#include <stdio.h>\n",
        "#include <stdlib.h>\n",
        "#include <string.h>\n",
        "#include <fcntl.h>\n",
        "#include <unistd.h>\n",
        "\n",
        "#define FIFO_NAME \"/tmp/fifo\"\n",
        "\n",
        "int main(int argc, char *argv[]) \n",
        "{\n",
        "    int fifo;\n",
        "    float promedio = 0;\n",
        "    int min = 0;\n",
        "    int max = 0;\n",
        "    int suma = 0;\n",
        "    int cantidad = 0;\n",
        "    char buffer[BUFSIZ];\n",
        "\n",
        "    if(argc < 2) \n",
        "    {\n",
        "        printf(\"Debe ingresar una cadena con números enteros separados por guión medio.\\n\");\n",
        "        return EXIT_FAILURE;\n",
        "    }\n",
        "\n",
        "    /* Abre la tubería nombrada */\n",
        "    if((fifo = open(FIFO_NAME, O_RDWR)) < 0) \n",
        "    {\n",
        "        printf(\"No se pudo abrir tuberia.\\n\");\n",
        "        perror(\"open\");\n",
        "        return EXIT_FAILURE;\n",
        "    }\n",
        "\n",
        "    /* Escribe la cadena de números en la tubería nombrada */\n",
        "    if(write(fifo, argv[1], strlen(argv[1])) < 0) \n",
        "    {\n",
        "        printf(\"No se pudo escribir tuberia.\\n\");\n",
        "        perror(\"write\");\n",
        "        return EXIT_FAILURE;\n",
        "    }\n",
        "\n",
        "    /* Lee los resultados desde la tubería nombrada */\n",
        "    if(read(fifo, buffer, BUFSIZ) < 0) \n",
        "    {\n",
        "        printf(\"No se pudo leer tuberia.\\n\");\n",
        "        perror(\"read\");\n",
        "        return EXIT_FAILURE;\n",
        "    }\n",
        "\n",
        "    /* Convierte los resultados de cadena a variables */\n",
        "    sscanf(buffer, \"%f,%d,%d,%d,%d\", &promedio, &min, &max, &suma, &cantidad);\n",
        "\n",
        "    /* Muestra los resultados por pantalla */\n",
        "    printf(\"Promedio: %f\\n\", promedio);\n",
        "    printf(\"Mínimo: %d\\n\", min);\n",
        "    printf(\"Máximo: %d\\n\", max);\n",
        "    printf(\"Suma: %d\\n\", suma);\n",
        "    printf(\"Cantidad: %d\\n\", cantidad);\n",
        "\n",
        "    /* Cierra la tubería nombrada */\n",
        "    close(fifo);\n",
        "\n",
        "    return EXIT_SUCCESS;\n",
        "}\n",
        "\n"
      ],
      "metadata": {
        "id": "nP-GttYzqOh_",
        "colab": {
          "base_uri": "https://localhost:8080/"
        },
        "outputId": "3a4a6701-a3ef-48ae-f8fc-e3b76ce553dd"
      },
      "execution_count": 319,
      "outputs": [
        {
          "output_type": "stream",
          "name": "stdout",
          "text": [
            "Overwriting cliente.cpp\n"
          ]
        }
      ]
    },
    {
      "cell_type": "code",
      "source": [
        "!g++ servidor.cpp -o servidor.bin"
      ],
      "metadata": {
        "id": "8rRcMCRpqQ0A"
      },
      "execution_count": 339,
      "outputs": []
    },
    {
      "cell_type": "code",
      "source": [
        "!g++ cliente.cpp -o cliente.bin"
      ],
      "metadata": {
        "id": "ikSP-JHEqSHX"
      },
      "execution_count": 321,
      "outputs": []
    },
    {
      "cell_type": "code",
      "source": [
        "!nohup ./servidor.bin 1>salidaServidor 2>/dev/null &"
      ],
      "metadata": {
        "id": "siMsru8nqTuP"
      },
      "execution_count": 340,
      "outputs": []
    },
    {
      "cell_type": "code",
      "source": [
        "!./cliente.bin 1-2-3-4 1>salidaCliente 2>/dev/null"
      ],
      "metadata": {
        "id": "g19s8hnsqVho"
      },
      "execution_count": 341,
      "outputs": []
    },
    {
      "cell_type": "code",
      "source": [
        "!cat salidaCliente"
      ],
      "metadata": {
        "colab": {
          "base_uri": "https://localhost:8080/"
        },
        "id": "KRWxNOpcyVOm",
        "outputId": "7fb5d142-5436-4f96-e955-06b76a1e111c"
      },
      "execution_count": 342,
      "outputs": [
        {
          "output_type": "stream",
          "name": "stdout",
          "text": [
            "Promedio: 2.500000\n",
            "Mínimo: 1\n",
            "Máximo: 4\n",
            "Suma: 10\n",
            "Cantidad: 4\n"
          ]
        }
      ]
    }
  ]
}