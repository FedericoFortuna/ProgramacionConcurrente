{
  "nbformat": 4,
  "nbformat_minor": 0,
  "metadata": {
    "colab": {
      "provenance": [],
      "authorship_tag": "ABX9TyMs0idEJ9+hQGBNUZw9y5X/",
      "include_colab_link": true
    },
    "kernelspec": {
      "name": "python3",
      "display_name": "Python 3"
    },
    "language_info": {
      "name": "python"
    }
  },
  "cells": [
    {
      "cell_type": "markdown",
      "metadata": {
        "id": "view-in-github",
        "colab_type": "text"
      },
      "source": [
        "<a href=\"https://colab.research.google.com/github/FedericoFortuna/ProgramacionConcurrente/blob/main/TP1_P3_Java.ipynb\" target=\"_parent\"><img src=\"https://colab.research.google.com/assets/colab-badge.svg\" alt=\"Open In Colab\"/></a>"
      ]
    },
    {
      "cell_type": "markdown",
      "source": [
        "# **Comunicación de procesos en Java (Sockets)**"
      ],
      "metadata": {
        "id": "FowoJ40z1mUb"
      }
    },
    {
      "cell_type": "markdown",
      "source": [
        "**Programa servidor**"
      ],
      "metadata": {
        "id": "OJd9X5ot4NPG"
      }
    },
    {
      "cell_type": "code",
      "execution_count": 1,
      "metadata": {
        "colab": {
          "base_uri": "https://localhost:8080/"
        },
        "id": "p8nPuzmy1UzB",
        "outputId": "f4e60ca8-31bc-4248-b357-642d093e2359"
      },
      "outputs": [
        {
          "output_type": "stream",
          "name": "stdout",
          "text": [
            "Writing Servidor.java\n"
          ]
        }
      ],
      "source": [
        "%%writefile Servidor.java\n",
        "import java.net.*;\n",
        "import java.io.*;\n",
        "\n",
        "\n",
        "public class Servidor \n",
        "{\n",
        "\n",
        "  public static final int MAX_PEND = 10;\n",
        "\n",
        "    public static void main(String[] args) \n",
        "    {\n",
        "        try \n",
        "        {\n",
        "            ServerSocket serverSocket = new ServerSocket(5000,MAX_PEND,InetAddress.getByName(\"127.0.0.1\"));\n",
        "            System.out.println(\"Servidor iniciado. Esperando conexiones...\");\n",
        "\n",
        "            while (true) \n",
        "            {\n",
        "                Socket socket = serverSocket.accept();\n",
        "                System.out.println(\"Cliente conectado\");\n",
        "\n",
        "                // Leer la cadena enviada por el cliente\n",
        "                DataInputStream delCliente = new DataInputStream(socket.getInputStream());\n",
        "                String cadena = delCliente.readUTF();\n",
        "                \n",
        "                System.out.println(\"Cadena recibida: \" + cadena);\n",
        "\n",
        "                // Procesar la cadena\n",
        "                int cantidadTotal = cadena.length();\n",
        "                int cantidadLetras = 0;\n",
        "                int cantidadDigitos = 0;\n",
        "                int cantidadOtros = 0;\n",
        "                for (int i = 0; i < cadena.length(); i++) \n",
        "                {\n",
        "                    char c = cadena.charAt(i);\n",
        "                    if (Character.isLetter(c)) \n",
        "                    {\n",
        "                        cantidadLetras++;\n",
        "                    } else if (Character.isDigit(c)) \n",
        "                    {\n",
        "                        cantidadDigitos++;\n",
        "                    } else \n",
        "                    {\n",
        "                        cantidadOtros++;\n",
        "                    }\n",
        "                }\n",
        "\n",
        "                // Enviar la respuesta al cliente\n",
        "                PrintWriter resultado = new PrintWriter(socket.getOutputStream(), true);\n",
        "                resultado.println(cantidadTotal);\n",
        "                resultado.println(cantidadLetras);\n",
        "                resultado.println(cantidadDigitos);\n",
        "                resultado.println(cantidadOtros);\n",
        "\n",
        "                // Cerrar el socket\n",
        "                socket.close();\n",
        "                \n",
        "            }\n",
        "        } \n",
        "        catch (IOException ex) \n",
        "        {\n",
        "            System.out.println(\"Error: \" + ex.getMessage());\n",
        "        }\n",
        "    }\n",
        "}"
      ]
    },
    {
      "cell_type": "markdown",
      "source": [
        "**Programa cliente**"
      ],
      "metadata": {
        "id": "8-I1u6ZA4QMU"
      }
    },
    {
      "cell_type": "code",
      "source": [
        "%%writefile Cliente.java\n",
        "import java.net.*;\n",
        "import java.io.*;\n",
        "\n",
        "public class Cliente \n",
        "{\n",
        "    public static void main(String[] args) \n",
        "    {\n",
        "        if (args.length != 1) \n",
        "        {\n",
        "            System.out.println(\"Debe ingresar una cadena como argumento.\");\n",
        "            System.exit(-1);\n",
        "        }\n",
        "        String cadena = args[0]; // Obtener la cadena desde los argumentos\n",
        "\n",
        "        try \n",
        "        {\n",
        "            // Conectar al servidor\n",
        "            Socket socket = new Socket(\"127.0.0.1\", 5000);\n",
        "\n",
        "            // Enviar la cadena al servidor\n",
        "            DataOutputStream mensaje;\n",
        "            mensaje = new DataOutputStream(socket.getOutputStream());\n",
        "            mensaje.writeUTF(cadena);\n",
        "            System.out.println(\"Cadena ingresada: \" + cadena);\n",
        "\n",
        "            // Leer la respuesta del servidor\n",
        "            BufferedReader respuesta = new BufferedReader(new InputStreamReader(socket.getInputStream()));\n",
        "            int cantidadTotal = Integer.parseInt(respuesta.readLine());\n",
        "            int cantidadLetras = Integer.parseInt(respuesta.readLine());\n",
        "            int cantidadDigitos = Integer.parseInt(respuesta.readLine());\n",
        "            int cantidadOtros = Integer.parseInt(respuesta.readLine());\n",
        "\n",
        "            // Mostrar los resultados\n",
        "            System.out.println(\"Cantidad de caracteres totales: \" + cantidadTotal);\n",
        "            System.out.println(\"Cantidad de letras: \" + cantidadLetras);\n",
        "            System.out.println(\"Cantidad de dígitos: \" + cantidadDigitos);\n",
        "            System.out.println(\"Cantidad de otros caracteres: \" + cantidadOtros);\n",
        "\n",
        "            // Cerrar el socket\n",
        "            socket.close();\n",
        "        } \n",
        "        catch (UnknownHostException ex) \n",
        "        {\n",
        "            System.out.println(\"Servidor no encontrado: \" + ex.getMessage());\n",
        "        } \n",
        "        catch (IOException ex) \n",
        "        {\n",
        "            System.out.println(\"Error de entrada/salida: \" + ex.getMessage());\n",
        "        }\n",
        "    }\n",
        "}"
      ],
      "metadata": {
        "colab": {
          "base_uri": "https://localhost:8080/"
        },
        "id": "7SUc6gkT4Rcx",
        "outputId": "ff3c316d-35d9-44f4-b425-628368f136af"
      },
      "execution_count": 2,
      "outputs": [
        {
          "output_type": "stream",
          "name": "stdout",
          "text": [
            "Writing Cliente.java\n"
          ]
        }
      ]
    },
    {
      "cell_type": "code",
      "source": [
        "!javac Servidor.java"
      ],
      "metadata": {
        "id": "fy6KcZf14pan"
      },
      "execution_count": 3,
      "outputs": []
    },
    {
      "cell_type": "code",
      "source": [
        "!javac Cliente.java"
      ],
      "metadata": {
        "id": "VqPNjPJr4qaS"
      },
      "execution_count": 4,
      "outputs": []
    },
    {
      "cell_type": "code",
      "source": [
        "!java Servidor >salidaJavaServidor 2>/dev/null & "
      ],
      "metadata": {
        "id": "ZkfgfuL15Bx9"
      },
      "execution_count": 5,
      "outputs": []
    },
    {
      "cell_type": "code",
      "source": [
        "!java Cliente '123!-prueba$789cadena?#456_' >salidaJavaCliente 2>/dev/null & "
      ],
      "metadata": {
        "id": "3jShTbUa5EwP"
      },
      "execution_count": 6,
      "outputs": []
    },
    {
      "cell_type": "code",
      "source": [
        "!cat salidaJavaServidor"
      ],
      "metadata": {
        "colab": {
          "base_uri": "https://localhost:8080/"
        },
        "id": "_fwYZC2J5Kal",
        "outputId": "5963c6fb-2dde-4e6c-b367-4d9265f7cca9"
      },
      "execution_count": 7,
      "outputs": [
        {
          "output_type": "stream",
          "name": "stdout",
          "text": [
            "Servidor iniciado. Esperando conexiones...\n",
            "Cliente conectado\n",
            "Cadena recibida: 123!-prueba$789cadena?#456_\n"
          ]
        }
      ]
    },
    {
      "cell_type": "code",
      "source": [
        "!cat salidaJavaCliente"
      ],
      "metadata": {
        "colab": {
          "base_uri": "https://localhost:8080/"
        },
        "id": "GCAovz415rcc",
        "outputId": "916cd34f-9f60-4a80-e6f7-cb40e84d3101"
      },
      "execution_count": 8,
      "outputs": [
        {
          "output_type": "stream",
          "name": "stdout",
          "text": [
            "Cadena ingresada: 123!-prueba$789cadena?#456_\n",
            "Cantidad de caracteres totales: 27\n",
            "Cantidad de letras: 12\n",
            "Cantidad de dígitos: 9\n",
            "Cantidad de otros caracteres: 6\n"
          ]
        }
      ]
    }
  ]
}