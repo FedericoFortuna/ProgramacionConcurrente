{
  "nbformat": 4,
  "nbformat_minor": 0,
  "metadata": {
    "colab": {
      "provenance": [],
      "include_colab_link": true
    },
    "kernelspec": {
      "name": "python3",
      "display_name": "Python 3"
    },
    "language_info": {
      "name": "python"
    }
  },
  "cells": [
    {
      "cell_type": "markdown",
      "metadata": {
        "id": "view-in-github",
        "colab_type": "text"
      },
      "source": [
        "<a href=\"https://colab.research.google.com/github/FedericoFortuna/ProgramacionConcurrente/blob/main/TP1_P4_Python.ipynb\" target=\"_parent\"><img src=\"https://colab.research.google.com/assets/colab-badge.svg\" alt=\"Open In Colab\"/></a>"
      ]
    },
    {
      "cell_type": "code",
      "execution_count": 92,
      "metadata": {
        "id": "3JegJ7-tHk2G",
        "colab": {
          "base_uri": "https://localhost:8080/"
        },
        "outputId": "81d11fcf-17f7-4674-fc95-e5eb3e9c3cb1"
      },
      "outputs": [
        {
          "output_type": "stream",
          "name": "stdout",
          "text": [
            "Overwriting encoder.py\n"
          ]
        }
      ],
      "source": [
        "%%writefile encoder.py\n",
        "import threading\n",
        "import sys\n",
        "import re\n",
        "\n",
        "CHAR_A_NUM_CONST = 64\n",
        "NUM_THREADS_CONST = 2\n",
        "REGEX_A_VALIDAR = \"^[a-zA-Z]+$\"\n",
        "\n",
        "def char_a_num(char):\n",
        "    \"\"\"Función auxiliar que convierte un carácter a un número\"\"\"\n",
        "    return ord(char.upper()) - CHAR_A_NUM_CONST\n",
        "\n",
        "def procesar_chunk(chunk, password):\n",
        "    \"\"\"Función que procesa una porción de la cadena y la convierte en números\"\"\"\n",
        "    for char in chunk:\n",
        "        password.append(char_a_num(char))\n",
        "\n",
        "def generar_password(string, num_threads):\n",
        "    \"\"\"Función principal que genera la contraseña usando threads\"\"\"\n",
        "    password = []\n",
        "    chunk_size = len(string) // num_threads\n",
        "    threads = []\n",
        "    start = 0\n",
        "    end = chunk_size\n",
        "    \n",
        "    # Creamos los hilos\n",
        "    for i in range(num_threads):\n",
        "        if i == num_threads - 1:\n",
        "            end = len(string)\n",
        "        chunk = string[start:end]\n",
        "        thread = threading.Thread(target=procesar_chunk, args=(chunk, password))\n",
        "        threads.append(thread)\n",
        "        start = end\n",
        "        end += chunk_size\n",
        "    \n",
        "    # Iniciamos los hilos\n",
        "    for thread in threads:\n",
        "        thread.start()\n",
        "    \n",
        "    # Esperamos a que los hilos terminen\n",
        "    for thread in threads:\n",
        "        thread.join()\n",
        "    \n",
        "    return password\n",
        "\n",
        "if __name__ == '__main__':\n",
        "    \"\"\"Función principal que se ejecuta al correr el script\"\"\"\n",
        "    if len(sys.argv) < 2:\n",
        "        print(\"Debe ingresar una cadena como argumento\")\n",
        "        sys.exit()\n",
        "    string_a_codificar = sys.argv[1]\n",
        "    if not re.match(REGEX_A_VALIDAR, string_a_codificar):\n",
        "        print(\"La cadena debe contener solamente letras\")\n",
        "        sys.exit()\n",
        "    string_codificada = generar_password(string_a_codificar, NUM_THREADS_CONST)\n",
        "    print(string_codificada)"
      ]
    },
    {
      "cell_type": "code",
      "source": [
        "!python encoder.py  \"aaadda\">&1 | tee salidaPython >/dev/null"
      ],
      "metadata": {
        "id": "9ZX54LlpSH_D"
      },
      "execution_count": 97,
      "outputs": []
    },
    {
      "cell_type": "code",
      "source": [
        "!cat salidaPython"
      ],
      "metadata": {
        "colab": {
          "base_uri": "https://localhost:8080/"
        },
        "id": "iPiiytLyRhki",
        "outputId": "80e7afab-f018-4d3c-f1ac-d8c70d48cd1d"
      },
      "execution_count": 98,
      "outputs": [
        {
          "output_type": "stream",
          "name": "stdout",
          "text": [
            "[1, 1, 1, 4, 4, 1]\n"
          ]
        }
      ]
    },
    {
      "cell_type": "code",
      "source": [],
      "metadata": {
        "id": "sfL7XKgRSbsy"
      },
      "execution_count": 26,
      "outputs": []
    }
  ]
}