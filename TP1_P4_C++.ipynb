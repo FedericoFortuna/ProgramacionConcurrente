{
  "nbformat": 4,
  "nbformat_minor": 0,
  "metadata": {
    "colab": {
      "provenance": [],
      "authorship_tag": "ABX9TyOPHy7CpGAGsdRsD1gnmPDd",
      "include_colab_link": true
    },
    "kernelspec": {
      "name": "python3",
      "display_name": "Python 3"
    },
    "language_info": {
      "name": "python"
    }
  },
  "cells": [
    {
      "cell_type": "markdown",
      "metadata": {
        "id": "view-in-github",
        "colab_type": "text"
      },
      "source": [
        "<a href=\"https://colab.research.google.com/github/FedericoFortuna/ProgramacionConcurrente/blob/main/TP1_P4_C%2B%2B.ipynb\" target=\"_parent\"><img src=\"https://colab.research.google.com/assets/colab-badge.svg\" alt=\"Open In Colab\"/></a>"
      ]
    },
    {
      "cell_type": "code",
      "execution_count": 32,
      "metadata": {
        "colab": {
          "base_uri": "https://localhost:8080/"
        },
        "id": "daMzACFwHPmj",
        "outputId": "382860f4-a386-43b0-998f-ae68e20f4ad0"
      },
      "outputs": [
        {
          "output_type": "stream",
          "name": "stdout",
          "text": [
            "Overwriting sumarArray.cpp\n"
          ]
        }
      ],
      "source": [
        "%%writefile sumarArray.cpp\n",
        "#include <iostream>\n",
        "#include <thread>\n",
        "#include <mutex>\n",
        "\n",
        "using namespace std;\n",
        "\n",
        "double sum = 0; // variable compartida para almacenar la suma\n",
        "mutex sum_mutex; // mutex para proteger la variable compartida\n",
        "\n",
        "// función que realiza la suma del rango correspondiente al hilo\n",
        "void SumarValores(double arr[], int start, int end) {\n",
        "    double local_sum = 0;\n",
        "    for (int i = start; i < end; i++) {\n",
        "        local_sum += arr[i];\n",
        "    }\n",
        "    sum_mutex.lock();\n",
        "    sum += local_sum;\n",
        "    sum_mutex.unlock();\n",
        "}\n",
        "\n",
        "int main(int argc, char* argv[]) {\n",
        "    double* arr = new double[argc-1];\n",
        "    // Leer los valores del array desde los argumentos\n",
        "    for (int i = 1; i < argc; i++) {\n",
        "        arr[i-1] = atof(argv[i]);\n",
        "    }\n",
        "\n",
        "    // crear dos hilos que se dividirán el array\n",
        "    thread t1(SumarValores, arr, 0, (argc-1)/2);\n",
        "    thread t2(SumarValores, arr, (argc-1)/2, argc-1);\n",
        "\n",
        "    // esperar a que los hilos terminen\n",
        "    t1.join();\n",
        "    t2.join();\n",
        "\n",
        "    // mostrar resultado\n",
        "    cout << \"La suma de los valores del array es: \" << sum << endl;\n",
        "\n",
        "    delete[] arr; // Liberar la memoria asignada al array\n",
        "    return 0;\n",
        "}"
      ]
    },
    {
      "cell_type": "code",
      "source": [
        "!g++ -pthread -o sumarArray.bin sumarArray.cpp "
      ],
      "metadata": {
        "id": "BOS26ucSJWEW"
      },
      "execution_count": 33,
      "outputs": []
    },
    {
      "cell_type": "code",
      "source": [
        "!./sumarArray.bin 1 2 3 4 5 6 1>salidaC++ 2>/dev/null &"
      ],
      "metadata": {
        "id": "aSfiPpHeJbKp"
      },
      "execution_count": 36,
      "outputs": []
    },
    {
      "cell_type": "code",
      "source": [
        "!cat salidaC++"
      ],
      "metadata": {
        "colab": {
          "base_uri": "https://localhost:8080/"
        },
        "id": "XYjWZOQVJh-t",
        "outputId": "d6f17ebb-01ce-4876-e3f0-4029d132a878"
      },
      "execution_count": 37,
      "outputs": [
        {
          "output_type": "stream",
          "name": "stdout",
          "text": [
            "La suma de los valores del array es: 21\n"
          ]
        }
      ]
    }
  ]
}